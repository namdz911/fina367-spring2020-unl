{
 "cells": [
  {
   "cell_type": "markdown",
   "metadata": {},
   "source": [
    "# Callable and Putable Bonds\n",
    "\n",
    "---\n",
    "\n",
    "**Useful readings**\n",
    "\n",
    "- Booleans section in [Basics](basics.ipynb)  \n",
    "- [Collections](collections.ipynb)  \n",
    "\n",
    "**Learning outcomes**\n",
    "\n",
    "  - Understand basic principles underlying different models of credit risk \n",
    "  - Understand credit rating pricing model "
   ]
  },
  {
   "cell_type": "markdown",
   "metadata": {},
   "source": [
    "## Outline \n",
    "\n",
    "[![alt text](./pic/test1.png)](https://use.vg/i2TvPm)\n",
    "\n",
    "- [Credit Risk](#Credit-Risk)  \n",
    "  - [Introduction to options](##Introduction-to-options)  \n",
    "  - [Introduction to bonds with embedded options](##Introduction-to-bonds-with-embedded-options)  \n",
    "  - [Gains and loses from calling a bond](##Gains-and-loses-from-calling-a-bond) \n",
    "  - [Pricing callable bonds](##Pricing-callable-bonds)  \n",
    "  - [Return on callable bonds](##Return-on-callable-bonds)  \n",
    "  - [Duration and Convexity of callable bonds](##Duration-and-Convexity-of-callable-bonds) \n",
    "  \n",
    "<details>\n",
    "  <summary>Click to expand!</summary>\n",
    "  \n",
    "  ## Heading\n",
    "  1. A numbered\n",
    "  2. list\n",
    "     * With some\n",
    "     * Sub bullets\n",
    "</details>  \n",
    "  \n"
   ]
  },
  {
   "cell_type": "markdown",
   "metadata": {},
   "source": [
    "## Introduction to Options\n",
    "If an asset pays a stream of payoffs over multiple time periods, then we\n",
    "can use a discount rate to calculate the value to the consumer of a entire\n",
    "sequence of payoffs."
   ]
  },
  {
   "cell_type": "markdown",
   "metadata": {},
   "source": [
    "<a id='exerciselist-1'></a>\n",
    "\n",
    "### Option Payoff/Profit example\n",
    "\n",
    "> Consider a call option on bond X with an exercise price of \\\\$112 that expires in 3 months. Today the option price is \\$4.\n",
    "> 1. What is your payoff if you buy the option today and in 3 months bond X is selling for \\$100? What is your profit/loss?\n",
    "> 2. What is your payoff if you sell the option and in 3 months bond X is selling for \\$100? What is your profit/loss?\n",
    "> 3. What is your payoff if you buy the option and in 3 months bond X is selling for \\$120? What is your profit/loss?\n",
    "\n",
    "\n",
    "#### Solution - [Link to Video](http://www.youtube.com/watch?v=YOUTUBE_VIDEO_ID_HERE)\n",
    "\n",
    "1. The option will not be exercise because the strike price \\\\$112 is higher than market price \\\\$100. You lose the \\$4 you paid for the option.\n",
    "2. In this case, you gain \\$4 for selling the option.\n",
    "3. The option will be exercise because the strike price \\\\$112 is lower than market price \\\\$120. You lose the \\\\$4 you paid for the option but gain \\$8 (120-112) for exercising the option. \n",
    "\n",
    ">See practice problem 1A-1 in the [*Problem List*](#problemlist-1)"
   ]
  },
  {
   "cell_type": "markdown",
   "metadata": {},
   "source": [
    "## Introduction to bonds with embedded options"
   ]
  },
  {
   "cell_type": "markdown",
   "metadata": {},
   "source": [
    "## Gains and loses from calling a bond"
   ]
  },
  {
   "cell_type": "markdown",
   "metadata": {},
   "source": [
    "## Pricing callable bonds"
   ]
  },
  {
   "cell_type": "markdown",
   "metadata": {},
   "source": [
    "## Return on callable bonds"
   ]
  },
  {
   "cell_type": "markdown",
   "metadata": {},
   "source": [
    "## Duration and Convexity of callable bonds"
   ]
  },
  {
   "cell_type": "markdown",
   "metadata": {},
   "source": [
    "<a id='exerciselist-1'></a>\n",
    "\n",
    "### Example 1A\n",
    "\n",
    "> Consider a 1-year zero-coupon bond that has a BBB rating. Assume that this bond is senior secured (historical recovery rate = 63.5%). The yield on a 1-year zero-coupon Treasury bond is 6%. What should be the yield on this BBB-rated bond? (Assume periodicity of 1)\n",
    "\n",
    "[Walk-through](http://www.youtube.com/watch?v=YOUTUBE_VIDEO_ID_HERE)\n",
    "\n",
    "- **Step 1**: Calculate the payoff \n",
    "- **Step 2**: Calculate the payoff \n",
    "- **Step 3**: Calculate the payoff\n",
    "\n",
    ">See practice problem 1A-1 in the [*Problem List*](#problemlist-1)"
   ]
  },
  {
   "cell_type": "markdown",
   "metadata": {},
   "source": [
    "<a id='exerciselist-1'></a>\n",
    "\n",
    "### Example 1B\n",
    "\n",
    "> Consider a 1-year zero-coupon bond that has a BBB rating. Assume that this bond is senior secured (historical recovery rate = 63.5%). The yield on a 1-year zero-coupon Treasury bond is 6%. What should be the yield on this BBB-rated bond? (Assume periodicity of 1)\n",
    "\n",
    "[Walk-through](http://www.youtube.com/watch?v=YOUTUBE_VIDEO_ID_HERE)\n",
    "\n",
    "- **Step 1**: Calculate the payoff \n",
    "- **Step 2**: Calculate the payoff \n",
    "- **Step 3**: Calculate the payoff\n",
    "\n",
    ">See practice problem 1A-1 in the [*Problem List*](#problemlist-1)\n"
   ]
  },
  {
   "cell_type": "markdown",
   "metadata": {},
   "source": [
    "<a id='exerciselist-1'></a>\n",
    "\n",
    "### Example 1B\n",
    "\n",
    "> Consider a 1-year zero-coupon bond that has a BBB rating. Assume that this bond is senior secured (historical recovery rate = 63.5%). The yield on a 1-year zero-coupon Treasury bond is 6%. What should be the yield on this BBB-rated bond? (Assume periodicity of 1)\n",
    "\n",
    "[Walk-through](http://www.youtube.com/watch?v=YOUTUBE_VIDEO_ID_HERE)\n",
    "\n",
    "- **Step 1**: Calculate the payoff \n",
    "- **Step 2**: Calculate the payoff \n",
    "- **Step 3**: Calculate the payoff\n",
    "\n",
    ">See practice problem 1A-1 in the [*Problem List*](#problemlist-1)\n"
   ]
  },
  {
   "cell_type": "markdown",
   "metadata": {},
   "source": [
    "<a id='exerciselist-1'></a>\n",
    "\n",
    "**EXAMPLE 1A**\n",
    "\n",
    "> Consider a 1-year zero-coupon bond that has a BBB rating. Assume that this bond is senior secured (historical recovery rate = 63.5%). The yield on a 1-year zero-coupon Treasury bond is 6%. What should be the yield on this BBB-rated bond? (Assume periodicity of 1)\n",
    "\n",
    "[Walk-through](http://www.youtube.com/watch?v=YOUTUBE_VIDEO_ID_HERE)\n",
    "\n",
    "- **Step 1**: Calculate the payoff \n",
    "- **Step 2**: Calculate the payoff \n",
    "- **Step 3**: Calculate the payoff\n",
    "\n",
    ">See practice problem 1A-1 in the [*Problem List*](#problemlist-1)"
   ]
  },
  {
   "cell_type": "markdown",
   "metadata": {},
   "source": [
    "### Practice Problems\n",
    "\n",
    "\n",
    "<a id='problemlist-1'></a>\n",
    "**Example 1**\n",
    "\n",
    "What happens if we try different inputs in our Cobb-Douglas production\n",
    "\n",
    "function?\n",
    "\n",
    "([*back to text*](#exercise-1))"
   ]
  },
  {
   "cell_type": "markdown",
   "metadata": {},
   "source": [
    "<a id='exerciselist-7'></a>\n",
    "\n",
    "> **EXAMPLE 7**\n",
    ">\n",
    "> A bond has an expected return of 17.6%, sensitivity to the term factor of 1.45 and to the default factor of 0.86. The current term risk pr\n",
    "emium is 3.2%. The risk free rate of return is 5%. What is the default risk premium if no arbitrage opportunities exist?\n",
    "\n",
    "\n",
    "<details>\n",
    "  <summary>Click for solution!</summary>\n",
    "  \n",
    "  > First Calculate the Price\n",
    "$$\n",
    "\\begin{aligned}\n",
    "\\sum_{t=0}^{\\infty} \\beta^t & = \\frac{1}{1-\\beta}\\\\\n",
    "\\sum_{t=0}^{\\tau} \\beta^t &= \\frac{1- \\beta^{\\tau+1}}{1-\\beta}\\\\\n",
    "\\sum_{t=\\tau}^{\\infty} \\beta^t &=  \\frac{\\beta^{\\tau}}{1-\\beta}\n",
    "\\end{aligned} \\tag{2}\n",
    "$$\n",
    "    \n",
    "  > First Calculate the Price\n",
    "$$\n",
    "\\begin{aligned}\n",
    "\\sum_{t=0}^{\\infty} \\beta^t & = \\frac{1}{1-\\beta}\\\\\n",
    "\\sum_{t=0}^{\\tau} \\beta^t &= \\frac{1- \\beta^{\\tau+1}}{1-\\beta}\\\\\n",
    "\\sum_{t=\\tau}^{\\infty} \\beta^t &=  \\frac{\\beta^{\\tau}}{1-\\beta}\n",
    "\\end{aligned} \\tag{2}\n",
    "$$\n",
    "</details>\n",
    "\n",
    "([*back to text*](#exercise-7))"
   ]
  }
 ],
 "metadata": {
  "date": 1579028399.5295208,
  "download_nb": false,
  "filename": "control_flow.rst",
  "filename_with_path": "python_fundamentals/control_flow",
  "kernelspec": {
   "display_name": "Python 3",
   "language": "python",
   "name": "python3"
  },
  "language_info": {
   "codemirror_mode": {
    "name": "ipython",
    "version": 3
   },
   "file_extension": ".py",
   "mimetype": "text/x-python",
   "name": "python",
   "nbconvert_exporter": "python",
   "pygments_lexer": "ipython3",
   "version": "3.7.4"
  },
  "title": "Control Flow"
 },
 "nbformat": 4,
 "nbformat_minor": 4
}
