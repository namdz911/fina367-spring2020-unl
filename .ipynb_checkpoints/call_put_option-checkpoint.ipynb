{
 "cells": [
  {
   "cell_type": "markdown",
   "metadata": {},
   "source": [
    "# Callable and Putable Bonds\n",
    "\n",
    "**Before you start**\n",
    "- Optional Readings: Chapter 9.2 - 9.4\n",
    "- <a href=\"./pdf/callable_putable_bonds.pdf\" target=\"_blank\">Link to download PowerPoint Slides!</a>\n"
   ]
  },
  {
   "cell_type": "markdown",
   "metadata": {},
   "source": [
    "## Outline\n",
    "\n",
    "![alt text](./pic/test2.png) <a href=\"https://use.vg/i2TvPm\" target=\"_blank\">Link to Video!</a>\n",
    "\n",
    "- [Callable and Putable Bonds](#callable-and-putable-bonds)  \n",
    "  - [Introduction to Options](#introduction-to-options)  \n",
    "  - [Introduction to Bonds with Embedded Options](#introduction-to-bonds-with-embedded-options)  \n",
    "  - [Gains and Loses from Calling a Bond](#gains-and-loses-from-calling-a-bond) \n",
    "  - [Pricing Callable Bonds](#pricing-callable-bonds)  \n",
    "  - [Return on Callable Bonds](#return-on-callable-bonds)  \n",
    "  - [Duration and Convexity of Callable Bonds](#duration-and-convexity-of-callable-bonds) \n",
    "  - [Practice Problems](#practice-problems) \n",
    "- In Class Example List: Option Payff/Profit Examples([P1](#example-op1), [P2](#example-op1), [P3](#example-op1)), Example [1](#example-1), [2](#example-2), [3](#example-3).\n",
    "---"
   ]
  },
  {
   "cell_type": "markdown",
   "metadata": {},
   "source": [
    "## Introduction to Options\n",
    "([*back to top*](#callable-and-putable-bonds)!)\n",
    "\n",
    " - For this section, it is crutial to understand how option works? how the decision to exercise is made and what the payoff structure looks like?\n",
    " - The section would be the prerequisite for Bonds with Embedded Options.  "
   ]
  },
  {
   "cell_type": "markdown",
   "metadata": {},
   "source": [
    "#### ![](./pic/dollarnew15.png) What is an Option?\n",
    "\n",
    " - Definition and Basic Features of Options\n",
    "\n",
    "<iframe title=\"What is an Option?\" width=\"512\" height=\"288\" allowTransparency=\"true\" mozallowfullscreen webkitallowfullscreen allowfullscreen style=\"background-color:transparent;\" frameBorder=\"0\" src=\"https://app.vidgrid.com/embed/0I1pi5Y0HGHH\"></iframe>\n",
    "  \n",
    "  \n",
    "---"
   ]
  },
  {
   "cell_type": "markdown",
   "metadata": {},
   "source": [
    "#### ![](./pic/dollarnew15.png) Option Payoff/Profit Diagrams\n",
    "\n",
    " - The use of diagrams and some assumptions to generate the the ones that we need.\n",
    "\n",
    "<iframe title=\"Option Payoff/Profit Diagrams P1\" width=\"512\" height=\"288\" allowTransparency=\"true\" mozallowfullscreen webkitallowfullscreen allowfullscreen style=\"background-color:transparent;\" frameBorder=\"0\" src=\"https://app.vidgrid.com/embed/c7H9RoVYggEa\"></iframe>\n",
    "  \n",
    "\n",
    "---"
   ]
  },
  {
   "cell_type": "markdown",
   "metadata": {},
   "source": [
    " - How to draw the diagram for 4 option positions: **`Buy a Call`, `Sell a Call`, `Buy a Put`, `Sell A Put`**\n",
    "     - To navigate within the video to different option positions, click on the **`Chapter`** button on the video (The second button on the top right corner of the video)\n",
    "  \n",
    "<iframe title=\"Option Payoff/Profit Diagrams P2\" width=\"512\" height=\"288\" allowTransparency=\"true\" mozallowfullscreen webkitallowfullscreen allowfullscreen style=\"background-color:transparent;\" frameBorder=\"0\" src=\"https://app.vidgrid.com/embed/naNuXeunh3b6\"></iframe>\n",
    "  \n",
    "  \n",
    "---"
   ]
  },
  {
   "cell_type": "markdown",
   "metadata": {},
   "source": [
    "#### ![](./pic/note1515.png) Option Payoff/Profit Examples \n",
    "\n",
    "<a id='example-op1'></a>\n",
    "\n",
    "**Part 1**\n",
    "\n",
    "(*Read the Example and think before you watch!*)\n",
    "\n",
    "\n",
    "<iframe title=\"Option Payoff/Profit Example 1\" width=\"512\" height=\"288\" allowTransparency=\"true\" mozallowfullscreen webkitallowfullscreen allowfullscreen style=\"background-color:transparent;\" frameBorder=\"0\" src=\"https://app.vidgrid.com/embed/jm6QFCvQm9O9\"></iframe>\n",
    "\n",
    "\n",
    ">Consider a call option on bond X with an exercise price of \\$112 that expires in 3 months. Today the option’s price is \\$4.\n",
    "> - What is your payoff if you buy the option today and in 3 months bond X is selling for \\$100? What is your profit/loss?\n",
    "\n",
    "\n",
    "<details>\n",
    "  <summary>Click for Solution!</summary>\n",
    "\n",
    "#### ![](./pic/light.png) Solution\n",
    "- Go through this set of questions:\n",
    "    - Who get to decide? **You**\n",
    "    - Will it be exercised? **No! you have a call option and because the price at expiration is less than the strike price (100 < 112).**\n",
    "    - What’s the payoff? **Payoff is 0 because the option is not excercised.**\n",
    "    - Did you pay or receive the premium? **You paid the premium because you are the buyer.**\n",
    "    - What is the profit/loss? **0 - 4 = -4**\n",
    "\n",
    "</details> \n",
    "\n",
    "##### Now try to solve the next Parts !\n",
    "\n",
    "---"
   ]
  },
  {
   "cell_type": "markdown",
   "metadata": {},
   "source": [
    "<a id='example-op2'></a>\n",
    "\n",
    "**Part 2**\n",
    "\n",
    " - Try to solve Part 2 now by following the list of questions and pay attention to the position you are taking now!\n",
    "\n",
    ">Consider a call option on bond X with an exercise price of \\$112 that expires in 3 months. Today the option’s price is \\$4.\n",
    "> - What is your payoff if you sell the option and in 3 months bond X is selling for \\$100? What is your profit/loss?\n",
    "\n",
    "\n",
    "<details>\n",
    "  <summary>Click for Solution!</summary>\n",
    "\n",
    "#### ![](./pic/light.png) Solution\n",
    "- Go through this set of questions:\n",
    "    - Who get to decide? **Whoever buys the option.**\n",
    "    - Will it be exercised? **No! because you have a call option and the price at expiration is less than the strike price (100 < 112).**\n",
    "    - What’s the payoff? **Payoff is 0 because the option is not excercised.**\n",
    "    - Did you pay or receive the premium? **You receive the premium because you are the seller.**\n",
    "    - What is the profit/loss? **0 + 4 = 4**\n",
    "\n",
    "</details> \n",
    "\n",
    "---"
   ]
  },
  {
   "cell_type": "markdown",
   "metadata": {},
   "source": [
    "<a id='example-op3'></a>\n",
    "\n",
    "**Part 3**\n",
    "\n",
    " -  Part 3 is different from the other two examples in that the price of the underlying is now different. How would that affect your decision to exercise the option?\n",
    "\n",
    ">Consider a call option on bond X with an exercise price of \\$112 that expires in 3 months. Today the option’s price is \\$4.\n",
    "> - What is your payoff if you buy the option and in 3 months bond X is selling for \\$120? What is your profit/loss?\n",
    "\n",
    "\n",
    "\n",
    "<details>\n",
    "  <summary>Click for Solution!</summary>\n",
    "\n",
    "#### ![](./pic/light.png) Solution\n",
    "- Go through this set of questions:\n",
    "    - Who get to decide? **You**\n",
    "    - Will it be exercised? **Yes! because you have a call option and the price at expiration is higher than the strike price (120 > 112).**\n",
    "    - What’s the payoff? **Payoff is 120 - 112 = 8 because the option is excercised.**\n",
    "    - Did you pay or receive the premium? **You paid the premium because you are the buyer.**\n",
    "    - What is the profit/loss? **8 - 4 = 4**\n",
    "\n",
    "</details> \n",
    "\n",
    "#### Practice\n",
    "- See [Problem 1](#problem-1) and [Problem 2](#problem-2) for more practice!\n",
    "\n"
   ]
  },
  {
   "cell_type": "markdown",
   "metadata": {},
   "source": [
    "(*You're done with a section! Good Job!*)\n",
    "\n",
    "---"
   ]
  },
  {
   "cell_type": "markdown",
   "metadata": {},
   "source": [
    "## Introduction to Bonds with Embedded Options \n",
    "\n",
    "([*back to top*](#callable-and-putable-bonds)!)"
   ]
  },
  {
   "cell_type": "markdown",
   "metadata": {},
   "source": [
    "#### ![](./pic/dollarnew15.png) Callable and Putable bonds \n",
    "\n",
    "<iframe title=\"Bonds With Embedded Options \" width=\"512\" height=\"288\" allowTransparency=\"true\" mozallowfullscreen webkitallowfullscreen allowfullscreen style=\"background-color:transparent;\" frameBorder=\"0\" src=\"https://app.vidgrid.com/embed/kkoVdcTWPoRV\"></iframe>\n",
    "  \n",
    "  \n",
    "---"
   ]
  },
  {
   "cell_type": "markdown",
   "metadata": {},
   "source": [
    "#### ![](./pic/dollarnew15.png) Yeild Measures for Callable and Putable Bonds \n",
    "\n",
    "<iframe title=\"Yield Measures \" width=\"512\" height=\"288\" allowTransparency=\"true\" mozallowfullscreen webkitallowfullscreen allowfullscreen style=\"background-color:transparent;\" frameBorder=\"0\" src=\"https://app.vidgrid.com/embed/njl3cJqeho8T\"></iframe>\n",
    "   \n",
    "---"
   ]
  },
  {
   "cell_type": "markdown",
   "metadata": {},
   "source": [
    "<a id='example-1'></a>\n",
    "\n",
    "#### ![](./pic/note1515.png) Example 1\n",
    "\n",
    "(*Read the Example and think before you watch!*)\n",
    "\n",
    "\n",
    "<iframe title=\"Example 1 - Yield Measures\" width=\"512\" height=\"288\" allowTransparency=\"true\" mozallowfullscreen webkitallowfullscreen allowfullscreen style=\"background-color:transparent;\" frameBorder=\"0\" src=\"https://app.vidgrid.com/embed/DeUQk7qsy8nm\"></iframe>\n",
    "  \n",
    "\n",
    ">Consider  an 18-year 11% coupon bond with \\$1,000 par selling for \\$1,169 (semi-annual coupons). The first call date is 8 years from today and the call price is $1,055. \n",
    "> - What is the bond’s yield to maturity (semiannual BEY)?\n",
    "> - What is the bond’s yield to first call?\n",
    "> - Suppose that the first par call for this bond is 13 years from now. What is the bond’s yield to first par call?\n",
    "> - Assume that the bond is putable at par in 5 years. What is the bond’s yield to put?\n",
    "> - If the call/put dates above are the only ones, what is the bond’s yield to worst?\n",
    "\n",
    "\n",
    "\n",
    "<details>\n",
    "  <summary>Click for Solution!</summary>\n",
    "\n",
    "#### ![](./pic/light.png) Solution\n",
    " - YTM = Y(N =18\\*2=36, PMT = 0.11\\*1000/2=55, PV=-1169, FV=1000)= **4.5385%**. Annualized YTM = **9.0770%**\n",
    " - YTFC = Y(N =8\\*2=16, PMT = 0.11\\*1000/2=55, PV=-1169, FV=1055)= **4.2675%**. Annualized YTFC = **8.5350%**\n",
    " - YTFPC = Y(N =13\\*2=26, PMT = 0.11\\*1000/2=55, PV=-1169, FV=1000)= **4.3965%**. Annualized YTFPC = **8.7930%**\n",
    " - YTFPP = Y(N =5\\*2=10, PMT = 0.11\\*1000/2=55, PV=-1169, FV=1000)= **3.4709%**. Annualized YTFPP = **6.9418%**\n",
    " - YTWorst = YTFPP = **6.9418%**\n",
    "\n",
    "</details> \n",
    "\n",
    "#### Practice\n",
    "- See [Problem 3](#problem-1) for more practice!"
   ]
  },
  {
   "cell_type": "markdown",
   "metadata": {},
   "source": [
    "(*You're done with a section! Good Job!*)\n",
    "\n",
    "---"
   ]
  },
  {
   "cell_type": "markdown",
   "metadata": {},
   "source": [
    "## Gains and loses from calling a bond\n",
    "\n",
    "([*back to top*](#callable-and-putable-bonds)!)"
   ]
  },
  {
   "cell_type": "markdown",
   "metadata": {},
   "source": [
    "#### ![](./pic/dollarnew15.png) When should the issuer call a callable bond? \n",
    "\n",
    "<iframe title=\"Gain and Losses from Calling P1\" width=\"512\" height=\"288\" allowTransparency=\"true\" mozallowfullscreen webkitallowfullscreen allowfullscreen style=\"background-color:transparent;\" frameBorder=\"0\" src=\"https://app.vidgrid.com/embed/QRni97L1KfWc\"></iframe>\n",
    "  \n",
    "  \n",
    "---"
   ]
  },
  {
   "cell_type": "markdown",
   "metadata": {},
   "source": [
    "<a id='example-2'></a>\n",
    "\n",
    "#### ![](./pic/note1515.png) Example 2\n",
    "\n",
    "(*Read the Example and think before you watch!*)\n",
    "\n",
    "\n",
    "<iframe title=\"Example 2 - Gain &amp; Loses from Calling\" width=\"512\" height=\"288\" allowTransparency=\"true\" mozallowfullscreen webkitallowfullscreen allowfullscreen style=\"background-color:transparent;\" frameBorder=\"0\" src=\"https://app.vidgrid.com/embed/3CCLHrEjh7Yi\"></iframe>\n",
    "\n",
    ">Consider a bond with the following characteristics: 30 years to maturity, 12% coupon rate, interest paid semi-annually, \\$1000 par value, \\$1050 call price, and no call protection. If rates fall to 11.5% will the company gain from calling the bond? Assume that there were no transaction costs.\n",
    "\n",
    "\n",
    "\n",
    "<details>\n",
    "  <summary>Click for Solution!</summary>\n",
    "\n",
    "#### ![](./pic/light.png) Solution\n",
    " - PV of Liability = **\\$1041.9596**\n",
    " - Call the Bond? **No, Because PV of liability is less than Call Price of \\$1055**\n",
    "\n",
    "</details> \n",
    "\n",
    "#### Practice\n",
    "- See [Problem 4](#problem-1) for more practice!\n",
    "\n",
    "---"
   ]
  },
  {
   "cell_type": "markdown",
   "metadata": {},
   "source": [
    "<a id='example-3'></a>\n",
    "\n",
    "#### ![](./pic/note1515.png) Example 3\n",
    "\n",
    "(*Read the Example and think before you watch!*)\n",
    "\n",
    "\n",
    "<iframe title=\"Example 3 - Gains &amp; Losses from Calling\" width=\"512\" height=\"288\" allowTransparency=\"true\" mozallowfullscreen webkitallowfullscreen allowfullscreen style=\"background-color:transparent;\" frameBorder=\"0\" src=\"https://app.vidgrid.com/embed/7Fs0BEjRSkfi\"></iframe>\n",
    "\n",
    ">Consider a bond with the following characteristics: 30 years to maturity, 12% coupon rate, interest paid semi-annually, \\$1000 par value, \\$1050 call price, and no call protection. If rates fall to 9% will the company gain from calling the bond? Assume that there were no transaction costs.\n",
    "> - What if by calling the bond the company incurred transaction costs of $200 per bond? Would it still call the bond?\n",
    "> - Where does the benefit/gain come from?\n",
    "> - You believe that interest rates will fall even more to 8.9% next year. Will you call the issue today or wait until next year? \n",
    "\n",
    "<details>\n",
    "  <summary>Click for Solution!</summary>\n",
    "\n",
    "#### ![](./pic/light.png) Solution\n",
    "\n",
    " - PV of Liability=PV(N=60,Y=4.5,PMT=60,FV=1000)=**\\$1309.5703** \n",
    " - Because PV of Liability (1309.5703) is now higher than 1050, **the bond will be called**. \n",
    " - Gains/Loss will be: 1309.5703 – 1050 = **\\$259.5703**\n",
    " - What if by calling the bond the company incurred transaction costs of \\$200 per bond? Would it still call the bond?\n",
    "     - If there is transaction cost, then Gains/Loss will be: 1309.5703 – 1050 – 200 = **$59.5703**\n",
    " - Where does the benefit/gain come from? \n",
    "     - **The difference between interest paid for old bond and new bond** (You are responsible for the calculations described in the Video).\n",
    " - You believe that interest rates will fall even more to 8.9% next year. Will you call the issue today or wait until next year? \n",
    "     - **We should call the bond now!** (You are responsible for the calculations described in the Video).\n",
    "\n",
    "</details> \n",
    "\n",
    "#### Summary for Calling Decision\n",
    " - A company will call a bond when the PV of the future liability is greater than the sum of the call price and the transaction cost.\n",
    " - A decrease in interest rates (below the coupon rate on the bond) is a necessary but not a sufficient condition for calling a bond.\n",
    " - The issuer can issue a new bond at lower interest rate and use the proceed to retire existing bond. \n",
    " - An issue will be called as soon as there is a gain from doing so.\n",
    "\n",
    "---"
   ]
  },
  {
   "cell_type": "markdown",
   "metadata": {},
   "source": [
    "#### ![](./pic/dollarnew15.png) From the Bondholders' Perspective?\n",
    "\n",
    " - Reinvestment Risk and Price Compression.\n",
    "\n",
    "<iframe title=\"Callable Bonds Investors&#039; Risks\" width=\"512\" height=\"288\" allowTransparency=\"true\" mozallowfullscreen webkitallowfullscreen allowfullscreen style=\"background-color:transparent;\" frameBorder=\"0\" src=\"https://app.vidgrid.com/embed/77IGp1tMavns\"></iframe>\n",
    "\n",
    "  "
   ]
  },
  {
   "cell_type": "markdown",
   "metadata": {},
   "source": [
    "\n",
    "(*You're done with a section! Good Job!*)\n",
    "\n",
    "---"
   ]
  },
  {
   "cell_type": "markdown",
   "metadata": {},
   "source": [
    "## Pricing callable bonds\n",
    "(To Be Updated)\n",
    "\n",
    "([*back to top*](#callable-and-putable-bonds)!) "
   ]
  },
  {
   "cell_type": "markdown",
   "metadata": {},
   "source": [
    "## Return on callable bonds\n",
    "(To Be Updated)\n",
    "\n",
    "([*back to top*](#callable-and-putable-bonds)!)"
   ]
  },
  {
   "cell_type": "markdown",
   "metadata": {},
   "source": [
    "## Duration and Convexity of callable bonds\n",
    "(To Be Updated)\n",
    "\n",
    "([*back to top*](#callable-and-putable-bonds)!)"
   ]
  },
  {
   "cell_type": "markdown",
   "metadata": {},
   "source": [
    "## Practice Problems\n",
    "\n",
    "([*back to top*](#callable-and-putable-bonds)!)"
   ]
  },
  {
   "cell_type": "markdown",
   "metadata": {},
   "source": [
    "<a id='problem-1'></a>\n",
    "#### ![](./pic/note1515.png) Problem 1\n",
    "You buy a call option and buy a put option on bond X. The strike price of the call option is \\$90 and the strike price of the put option is \\$90. The call option premium is \\$5 and the put option premium is \\$2. Both options can be exercised only on their expiration date, which happens to be the same for the call and the put. If the price of bond X is \\$100 on the expiration date, what is your total payoff and then total profit from the options portfolio?\n",
    "\n",
    "<details>\n",
    "  <summary>Click for Solution!</summary>\n",
    "    \n",
    "#### Solution\n",
    "\n",
    " - At \\$100, the call option would be exercised and the payoff to the buyer would be **100-90=10**.\n",
    " - At \\$100, the put option will not be exercised and the payoff to the buyer would be **0**.\n",
    " - The total payoff from the options portfolio would be **10**.\n",
    " - The total profit from the options portfolio is **10-5-2=3**.\n",
    "\n",
    "</details>\n",
    "&nbsp  \n",
    "\n",
    "([*back to text*](#example-op3))"
   ]
  },
  {
   "cell_type": "markdown",
   "metadata": {},
   "source": [
    "<a id='problem-2'></a>\n",
    "#### ![](./pic/note1515.png) Problem 2\n",
    "You sell a call option and buy a put option on bond X. The strike price of the call option is \\$90 and the strike price of the put option is \\$105. The call option premium is \\$5 and the put option premium is \\$2. Both options can be exercised only on their expiration date, which happens to be the same for the call and the put. If the price of bond X is \\$100 on the expiration date, what is your total payoff and then total profit from the options portfolio?\n",
    "\n",
    "<details>\n",
    "  <summary>Click for Solution!</summary>\n",
    "    \n",
    "#### ![](./pic/light.png) Solution\n",
    "\n",
    " - At \\$100, the call option would be exercised and the payoff to the seller would be **–(100-90)=-10**.\n",
    " - At \\$100, the put option will be exercised and the payoff to the buyer would be **105-100=5**\n",
    " - The total payoff from the options portfolio would be **-5**.\n",
    " - The total profit from the options portfolio is **-5+5-2=-2**. (loss)\n",
    "</details>    \n",
    "&nbsp  \n",
    "\n",
    "([*back to text*](#example-op3))"
   ]
  },
  {
   "cell_type": "markdown",
   "metadata": {},
   "source": [
    "<a id='problem-3'></a>\n",
    "#### ![](./pic/note1515.png) Problem 3\n",
    "Consider an 27 year 12.3 % coupon bond with \\$1,000 par selling for \\$937 (semi-annual coupons). \n",
    " - Suppose that the first par call for this bond is 1 years from now. \n",
    " - Assume that the bond is putable at par in 17 years. \n",
    " - If the call/put dates above are the only ones, what is the bond’s yield to worst? \n",
    "\n",
    "<details>\n",
    "  <summary>Click for Solution!</summary>\n",
    "    \n",
    "#### ![](./pic/light.png) Solution\n",
    " - Annualized YTM = **13.1562%**\n",
    " - Annualized YTFPC = **19.5374%**\n",
    " - Annualized YTFPP = **13.2406%**\n",
    " - Notice that there is no YTFC. So just compare the yields that you have to get YTWorst = **13.1562%**. Never leave out **YTM** !!\n",
    "\n",
    "</details>    \n",
    "&nbsp  \n",
    "\n",
    "([*back to text*](#example-1))"
   ]
  },
  {
   "cell_type": "markdown",
   "metadata": {},
   "source": [
    "<a id='problem-4'></a>\n",
    "#### ![](./pic/note1515.png) Problem 4\n",
    "Consider a bond with the following characteristics: 19 years to maturity, 10.60% coupon rate, interest paid semi-annually, \\$1,000 par value, \\$1,030 call price, and no call protection. If rates change to 7.90% will the company gain from calling the bond? Assume that transaction cost is \\$273.\n",
    "\n",
    "<details>\n",
    "  <summary>Click for Solution!</summary>\n",
    "    \n",
    "#### ![](./pic/light.png) Solution\n",
    " - PV of Liability = **\\$1263.3559**\n",
    " - Gains/Losses = **-\\$39.6441** (Don't forget to account for transaction cost)\n",
    " - Call the Bond? **No**\n",
    "</details>    \n",
    "&nbsp  \n",
    "\n",
    "([*back to text*](#example-2))"
   ]
  },
  {
   "cell_type": "markdown",
   "metadata": {},
   "source": [
    "([*back to top*](#callable-and-putable-bonds)!)"
   ]
  }
 ],
 "metadata": {
  "date": 1579028399.5295208,
  "download_nb": false,
  "filename": "control_flow.rst",
  "filename_with_path": "python_fundamentals/control_flow",
  "kernelspec": {
   "display_name": "Python 3",
   "language": "python",
   "name": "python3"
  },
  "language_info": {
   "codemirror_mode": {
    "name": "ipython",
    "version": 3
   },
   "file_extension": ".py",
   "mimetype": "text/x-python",
   "name": "python",
   "nbconvert_exporter": "python",
   "pygments_lexer": "ipython3",
   "version": "3.7.4"
  },
  "title": "Control Flow"
 },
 "nbformat": 4,
 "nbformat_minor": 4
}
