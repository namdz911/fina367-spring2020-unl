{
 "cells": [
  {
   "cell_type": "markdown",
   "metadata": {},
   "source": [
    "<div class=\"sidenav\">\n",
    "  <strong> <a href=\"readme.html\">Front Page</a></strong>\n",
    "  <strong>Module 5</strong>\n",
    "  <a href=\"credit_risk\">Credit Risk</a>\n",
    "  <strong>Module 6</strong>  \n",
    "  <a href=\"call_put_option.html\">Callable and Putable Bonds</a>\n",
    "  <a href=\"convertible_bonds\">Convertible Bonds</a>\n",
    "</div>\n",
    "\n",
    "<link rel=\"stylesheet\" type=\"text/css\" href=\"./sidenav.css\">\n",
    "\n",
    "<div class=\"main\">"
   ]
  },
  {
   "cell_type": "markdown",
   "metadata": {},
   "source": [
    "# Convertible Bonds\n",
    "\n",
    "**Before you start**\n",
    "- Optional Readings: Chapter 9.6\n",
    "- <a href=\"./pdf/convertible_bonds.pdf\" target=\"_blank\">Link to download PowerPoint Slides!</a>\n"
   ]
  },
  {
   "cell_type": "markdown",
   "metadata": {},
   "source": [
    "## Outline\n",
    "\n",
    "- [Convertible Bonds](#convertible-bonds)  \n",
    "  - [Introduction to Convertible Bonds](#introduction-to-convertible-bonds)  \n",
    "  - [Traditional Analysis of Convertibles](#traditional-analysis-of-convertibles)  \n",
    "  - [Pricing Convertible Bonds](#pricing-convertible-bonds) \n",
    "  - [Practice Problems](#practice-problems) \n",
    "- In Class Example List: Example [7](#example-7), [8](#example-8).\n",
    "---"
   ]
  },
  {
   "cell_type": "markdown",
   "metadata": {},
   "source": [
    "## Introduction to Convertible Bonds\n",
    "\n",
    "([*back to top*](#convertible-bonds)!)"
   ]
  },
  {
   "cell_type": "markdown",
   "metadata": {},
   "source": [
    "#### ![](./pic/dollarnew15.png) Basics of Convertible Bonds\n",
    "\n",
    "<iframe title=\"Convertible Bonds - Intro\" width=\"512\" height=\"288\" allowTransparency=\"true\" mozallowfullscreen webkitallowfullscreen allowfullscreen style=\"background-color:transparent;\" frameBorder=\"0\" src=\"https://app.vidgrid.com/embed/D4eU2OgDpxvE\"></iframe>\n",
    "  \n",
    "---"
   ]
  },
  {
   "cell_type": "markdown",
   "metadata": {},
   "source": [
    "#### ![](./pic/dollarnew15.png) Optimal Conversion Strategy\n",
    "\n",
    "<iframe title=\"Convertible Bonds - Optimal Conversion Strategy\" width=\"512\" height=\"288\" allowTransparency=\"true\" mozallowfullscreen webkitallowfullscreen allowfullscreen style=\"background-color:transparent;\" frameBorder=\"0\" src=\"https://app.vidgrid.com/embed/C55dHZWhYguK\"></iframe>\n",
    "  \n",
    "---"
   ]
  },
  {
   "cell_type": "markdown",
   "metadata": {},
   "source": [
    "## Traditional Analysis of Convertibles\n",
    "\n",
    "([*back to top*](#convertible-bonds)!)"
   ]
  },
  {
   "cell_type": "markdown",
   "metadata": {},
   "source": [
    "#### ![](./pic/dollarnew15.png) Part 1\n",
    "\n",
    "\n",
    " - Conversion Value\n",
    " - Straight Value\n",
    " - Minimum Value\n",
    "\n",
    "\n",
    "<iframe title=\"Convertible Bonds - Traditional Analysis Part 1\" width=\"512\" height=\"288\" allowTransparency=\"true\" mozallowfullscreen webkitallowfullscreen allowfullscreen style=\"background-color:transparent;\" frameBorder=\"0\" src=\"https://app.vidgrid.com/embed/hSG9y9UVjSZw\"></iframe>\n",
    "\n",
    "\n",
    "#### ![](./pic/dollarnew15.png) Part 2\n",
    "\n",
    "\n",
    " - Conversion Premium\n",
    " - Income Differential\n",
    " - Premium Payback Period\n",
    " \n",
    " \n",
    "<iframe title=\"Convertible Bonds - Traditional Analysis Part 2\" width=\"512\" height=\"288\" allowTransparency=\"true\" mozallowfullscreen webkitallowfullscreen allowfullscreen style=\"background-color:transparent;\" frameBorder=\"0\" src=\"https://app.vidgrid.com/embed/CLfG48bYK6kz\"></iframe>\n",
    "  \n",
    "    \n",
    "---"
   ]
  },
  {
   "cell_type": "markdown",
   "metadata": {},
   "source": [
    "## Pricing Convertible Bonds\n",
    "\n",
    "([*back to top*](#convertible-bonds)!)"
   ]
  },
  {
   "cell_type": "markdown",
   "metadata": {},
   "source": [
    "#### ![](./pic/dollarnew15.png) Principle of Pricing Convertible Bonds\n",
    "\n",
    "<iframe title=\"Pricing Convertibles P1\" width=\"512\" height=\"288\" allowTransparency=\"true\" mozallowfullscreen webkitallowfullscreen allowfullscreen style=\"background-color:transparent;\" frameBorder=\"0\" src=\"https://app.vidgrid.com/embed/IqdQW70HLTpk\"></iframe>\n",
    "    \n",
    "---"
   ]
  },
  {
   "cell_type": "markdown",
   "metadata": {},
   "source": [
    "<a id='example-7'></a>\n",
    "\n",
    "#### ![](./pic/note1515.png) Example 7\n",
    "\n",
    "<iframe title=\"Example 7 - Pricing Convertibles\" width=\"512\" height=\"288\" allowTransparency=\"true\" mozallowfullscreen webkitallowfullscreen allowfullscreen style=\"background-color:transparent;\" frameBorder=\"0\" src=\"https://app.vidgrid.com/embed/a2uPlCD5uOur\"></iframe>\n",
    "\n",
    "---"
   ]
  },
  {
   "cell_type": "markdown",
   "metadata": {},
   "source": [
    "<a id='example-8'></a>\n",
    "\n",
    "#### ![](./pic/note1515.png) Example 8\n",
    "\n",
    "<iframe title=\"Example 8 - Pricing Convertibles\" width=\"512\" height=\"288\" allowTransparency=\"true\" mozallowfullscreen webkitallowfullscreen allowfullscreen style=\"background-color:transparent;\" frameBorder=\"0\" src=\"https://app.vidgrid.com/embed/vP3Ch5tZW7Qd\"></iframe>\n",
    "\n",
    "---"
   ]
  },
  {
   "cell_type": "markdown",
   "metadata": {},
   "source": [
    "## Practice Problems\n",
    "\n",
    "([*back to top*](#convertible-bonds)!)"
   ]
  }
 ],
 "metadata": {
  "kernelspec": {
   "display_name": "Python 3",
   "language": "python",
   "name": "python3"
  },
  "language_info": {
   "codemirror_mode": {
    "name": "ipython",
    "version": 3
   },
   "file_extension": ".py",
   "mimetype": "text/x-python",
   "name": "python",
   "nbconvert_exporter": "python",
   "pygments_lexer": "ipython3",
   "version": "3.7.4"
  }
 },
 "nbformat": 4,
 "nbformat_minor": 4
}
