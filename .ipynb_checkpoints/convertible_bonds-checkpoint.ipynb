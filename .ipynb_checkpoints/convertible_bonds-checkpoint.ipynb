{
 "cells": [
  {
   "cell_type": "markdown",
   "metadata": {},
   "source": [
    "<div class=\"sidebar\">\n",
    "  <a href=\"readme.html\" class=\"module\"><i class=\"fa fa-fw fa-home\"></i> Home</a>\n",
    "  <a> </a>   \n",
    "  <a href=\"credit_risk.html\" class=\"module\"><strong>Credit Risk</strong>  \n",
    "  <a href=\"credit_risk.html#credit-ratings\">Credit Ratings</a>    \n",
    "  <a href=\"credit_risk.html#credit-risk-models\">Credit Risk Models</a>\n",
    "  <a href=\"credit_risk.html#bond-factor-models\">Bond Factor Models</a>\n",
    "  <a href=\"credit_risk.html#practice-problems\">Practice Problems</a> \n",
    "  <a> </a>       \n",
    "  <a href=\"call_put_option.html\" class=\"module\"><strong>Callable and Putable Bonds</strong>\n",
    "  <a href=\"call_put_option.html#introduction-to-options\">Introduction to Options</a>    \n",
    "  <a href=\"call_put_option.html#introduction-to-bonds-with-embedded-options\">Introduction to Bonds with Embedded Options</a> \n",
    "  <a href=\"call_put_option.html#gains-and-loses-from-calling-a-bond\">Gains and Loses from Calling a Bond</a> \n",
    "  <a href=\"call_put_option.html#pricing-callable-bonds\">Pricing Callable Bonds</a> \n",
    "  <a href=\"call_put_option.html#return-on-callable-bonds\">Return on Callable Bonds</a> \n",
    "  <a href=\"call_put_option.html#practice-problems\">Practice Problems</a>\n",
    "  <a> </a>     \n",
    "  <a href=\"convertible_bonds.html\" class=\"active\"><strong>Convertible Bonds</strong>\n",
    "  <a href=\"convertible_bonds.html#introduction-to-convertible-bonds\">Introduction to Convertible Bonds</a> \n",
    "  <a href=\"convertible_bonds.html#traditional-analysis-of-convertibles\">Traditional Analysis of Convertibles</a> \n",
    "  <a href=\"convertible_bonds.html#pricing-convertible-bonds\">Pricing Convertible Bonds</a> \n",
    "  <a href=\"convertible_bonds.html#practice-problems\">Practice Problems</a> \n",
    "  <a> </a>\n",
    "  <a href=\"mortgage.html\" class=\"module\"><strong>Residential Mortgages</strong>\n",
    "  <a href=\"mortgage.html#introduction-to-residential-mortgages\">Introduction to Residential Mortgages</a> \n",
    "  <a href=\"mortgage.html#risks-associated-with-investing-in-mortgages\">Risks Associated with Investing in Mortgages</a> \n",
    "  <a> </a>          \n",
    "<link rel=\"stylesheet\" type=\"text/css\" href=\"./sidebar.css\">\n",
    "<link rel=\"stylesheet\" href=\"https://cdnjs.cloudflare.com/ajax/libs/font-awesome/4.7.0/css/font-awesome.min.css\">      \n",
    "</div>\n",
    "\n",
    "<div class=\"main\">\n",
    "\n"
   ]
  },
  {
   "cell_type": "markdown",
   "metadata": {},
   "source": [
    "# Convertible Bonds\n",
    "\n",
    "**Before you start**\n",
    "- Optional Readings: Chapter 9.6\n",
    "- <a href=\"./pdf/convertible_bonds.pdf\" target=\"_blank\">Link to download PowerPoint Slides!</a>\n"
   ]
  },
  {
   "cell_type": "markdown",
   "metadata": {},
   "source": [
    "## Outline\n",
    "\n",
    "- [Convertible Bonds](#convertible-bonds)  \n",
    "  - [Introduction to Convertible Bonds](#introduction-to-convertible-bonds)  \n",
    "  - [Traditional Analysis of Convertibles](#traditional-analysis-of-convertibles)  \n",
    "  - [Pricing Convertible Bonds](#pricing-convertible-bonds) \n",
    "  - [Practice Problems](#practice-problems) \n",
    "- In Class Example List: Example [7](#example-7), [8](#example-8).\n",
    "---"
   ]
  },
  {
   "cell_type": "markdown",
   "metadata": {},
   "source": [
    "## Introduction to Convertible Bonds\n",
    "\n",
    "([*back to top*](#convertible-bonds)!)"
   ]
  },
  {
   "cell_type": "markdown",
   "metadata": {},
   "source": [
    "#### ![](./pic/dollarnew15.png) Basics of Convertible Bonds\n",
    "\n",
    "<iframe title=\"Convertible Bonds - Intro\" width=\"512\" height=\"288\" allowTransparency=\"true\" mozallowfullscreen webkitallowfullscreen allowfullscreen style=\"background-color:transparent;\" frameBorder=\"0\" src=\"https://app.vidgrid.com/embed/D4eU2OgDpxvE\"></iframe>\n",
    "  \n",
    "---"
   ]
  },
  {
   "cell_type": "markdown",
   "metadata": {},
   "source": [
    "#### ![](./pic/dollarnew15.png) Optimal Conversion Strategy\n",
    "\n",
    "<iframe title=\"Convertible Bonds - Optimal Conversion Strategy\" width=\"512\" height=\"288\" allowTransparency=\"true\" mozallowfullscreen webkitallowfullscreen allowfullscreen style=\"background-color:transparent;\" frameBorder=\"0\" src=\"https://app.vidgrid.com/embed/C55dHZWhYguK\"></iframe>\n",
    "  "
   ]
  },
  {
   "cell_type": "markdown",
   "metadata": {},
   "source": [
    "(*You're done with a section! Good Job!*)\n",
    "\n",
    "---"
   ]
  },
  {
   "cell_type": "markdown",
   "metadata": {},
   "source": [
    "## Traditional Analysis of Convertibles\n",
    "\n",
    "([*back to top*](#convertible-bonds)!)"
   ]
  },
  {
   "cell_type": "markdown",
   "metadata": {},
   "source": [
    "#### ![](./pic/dollarnew15.png) Part 1\n",
    "\n",
    "\n",
    " - Conversion Value\n",
    " - Straight Value\n",
    " - Minimum Value\n",
    "\n",
    "\n",
    "<iframe title=\"Convertible Bonds - Traditional Analysis Part 1\" width=\"512\" height=\"288\" allowTransparency=\"true\" mozallowfullscreen webkitallowfullscreen allowfullscreen style=\"background-color:transparent;\" frameBorder=\"0\" src=\"https://app.vidgrid.com/embed/hSG9y9UVjSZw\"></iframe>\n",
    "\n",
    "\n",
    "#### ![](./pic/dollarnew15.png) Part 2\n",
    "\n",
    "\n",
    " - Conversion Premium\n",
    " - Income Differential\n",
    " - Premium Payback Period\n",
    " \n",
    " \n",
    "<iframe title=\"Convertible Bonds - Traditional Analysis Part 2\" width=\"512\" height=\"288\" allowTransparency=\"true\" mozallowfullscreen webkitallowfullscreen allowfullscreen style=\"background-color:transparent;\" frameBorder=\"0\" src=\"https://app.vidgrid.com/embed/CLfG48bYK6kz\"></iframe>\n",
    "  \n"
   ]
  },
  {
   "cell_type": "markdown",
   "metadata": {},
   "source": [
    "(*You're done with a section! Good Job!*)\n",
    "\n",
    "---"
   ]
  },
  {
   "cell_type": "markdown",
   "metadata": {},
   "source": [
    "## Pricing Convertible Bonds\n",
    "\n",
    "([*back to top*](#convertible-bonds)!)"
   ]
  },
  {
   "cell_type": "markdown",
   "metadata": {},
   "source": [
    "#### ![](./pic/dollarnew15.png) Principle of Pricing Convertible Bonds\n",
    "\n",
    "<iframe title=\"Pricing Convertibles P1\" width=\"512\" height=\"288\" allowTransparency=\"true\" mozallowfullscreen webkitallowfullscreen allowfullscreen style=\"background-color:transparent;\" frameBorder=\"0\" src=\"https://app.vidgrid.com/embed/IqdQW70HLTpk\"></iframe>\n",
    "    \n",
    "---"
   ]
  },
  {
   "cell_type": "markdown",
   "metadata": {},
   "source": [
    "<a id='example-7'></a>\n",
    "\n",
    "#### ![](./pic/note1515.png) Example 7\n",
    "\n",
    "<iframe title=\"Example 7 - Pricing Convertibles\" width=\"512\" height=\"288\" allowTransparency=\"true\" mozallowfullscreen webkitallowfullscreen allowfullscreen style=\"background-color:transparent;\" frameBorder=\"0\" src=\"https://app.vidgrid.com/embed/a2uPlCD5uOur\"></iframe>\n",
    "\n",
    "---"
   ]
  },
  {
   "cell_type": "markdown",
   "metadata": {},
   "source": [
    "<a id='example-8'></a>\n",
    "\n",
    "#### ![](./pic/note1515.png) Example 8\n",
    "\n",
    "<iframe title=\"Example 8 - Pricing Convertibles\" width=\"512\" height=\"288\" allowTransparency=\"true\" mozallowfullscreen webkitallowfullscreen allowfullscreen style=\"background-color:transparent;\" frameBorder=\"0\" src=\"https://app.vidgrid.com/embed/vP3Ch5tZW7Qd\"></iframe>\n",
    "\n"
   ]
  },
  {
   "cell_type": "markdown",
   "metadata": {},
   "source": [
    "(*You're done with a section! Good Job!*)\n",
    "\n",
    "---"
   ]
  },
  {
   "cell_type": "markdown",
   "metadata": {},
   "source": [
    "## Practice Problems\n",
    "\n",
    "([*back to top*](#convertible-bonds)!)"
   ]
  },
  {
   "cell_type": "markdown",
   "metadata": {},
   "source": [
    "</div>"
   ]
  }
 ],
 "metadata": {
  "kernelspec": {
   "display_name": "Python 3",
   "language": "python",
   "name": "python3"
  },
  "language_info": {
   "codemirror_mode": {
    "name": "ipython",
    "version": 3
   },
   "file_extension": ".py",
   "mimetype": "text/x-python",
   "name": "python",
   "nbconvert_exporter": "python",
   "pygments_lexer": "ipython3",
   "version": "3.7.4"
  }
 },
 "nbformat": 4,
 "nbformat_minor": 4
}
