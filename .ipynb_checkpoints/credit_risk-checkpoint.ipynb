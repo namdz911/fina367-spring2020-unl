{
 "cells": [
  {
   "cell_type": "markdown",
   "metadata": {},
   "source": [
    "<div class=\"sidenav\">\n",
    "  <a href=\"readme.html\">Front Page</a>\n",
    "  <strong>Module 5</strong>\n",
    "  <a href=\"credit_risk\">Credit Risk</a>\n",
    "  <strong>Module 6</strong>  \n",
    "  <a href=\"call_put_option.html\">Callable and Putable Bonds</a>\n",
    "  <a href=\"convertible_bonds\">Convertible Bonds</a>\n",
    "</div>\n",
    "\n",
    "<link rel=\"stylesheet\" type=\"text/css\" href=\"./sidenav.css\">\n",
    "\n",
    "<div class=\"main\">"
   ]
  },
  {
   "cell_type": "markdown",
   "metadata": {},
   "source": [
    "# Credit Risk\n"
   ]
  },
  {
   "cell_type": "markdown",
   "metadata": {},
   "source": [
    "\n",
    "**Before you start**\n",
    "\n",
    "- We pick up where we left off before exam 3. We were discussing a new pricing model that is based on risk-adjusted return. Understanding Example 1A is important for Example 3-6 therefore the online course will pick up from there.\n",
    "- You should practice all the problems provided on this page and make sure you know how to solve them. \n",
    "- Optional Readings: Chapter 5, 6\n",
    "- <a href=\"./pdf/credit_risk.pdf\" target=\"_blank\">Link to download PowerPoint Slides!</a>\n"
   ]
  },
  {
   "cell_type": "markdown",
   "metadata": {},
   "source": [
    "## Outline\n",
    "- [Credit Risk](#credit-risk)  \n",
    "  - [Credit Ratings](#credit-ratings)  \n",
    "  - [Credit Risk Models](#credit-risk-models)  \n",
    "  - [Bond Factor Models](#bond-factor-models) \n",
    "  - [Practice Problems](#practice-problems)\n",
    "- In Class Example List: [1A](#example-1a), [1B](#example-1b), [2](#example-2), [3](#example-3), [4](#example-4), [5](#example-5), [6](#example-6), [7](#example-7)   \n",
    "---"
   ]
  },
  {
   "cell_type": "markdown",
   "metadata": {},
   "source": [
    "## Credit Ratings\n",
    "([*back to top*](#credit-risk))!"
   ]
  },
  {
   "cell_type": "markdown",
   "metadata": {},
   "source": [
    "<a id='example-1a'></a>\n",
    "#### ![](./pic/note1515.png) Example 1A\n",
    "\n",
    "(*Read the Example and think before you watch!*)\n",
    "\n",
    "\n",
    "<iframe title=\"Credit Risk - Example 1A\" width=\"512\" height=\"288\" allowTransparency=\"true\" mozallowfullscreen webkitallowfullscreen allowfullscreen style=\"background-color:transparent;\" frameBorder=\"0\" src=\"https://app.vidgrid.com/embed/UFISRTS4eMtm\"></iframe>\n",
    "  \n",
    ">Consider a 1-year zero-coupon bond that has a BBB rating. Assume that this bond is senior secured (historical recovery rate = 65.3%). The yield on a 1-year zero-coupon Treasury bond is 6%. What should be the yield on this BBB-rated bond? (Assume periodicity of 1)\n",
    "\n",
    "<details>\n",
    "  <summary>Click for Solution!</summary>\n",
    "\n",
    "#### ![](./pic/light.png) Solution\n",
    "\n",
    "- Risk adjusted payoff is equal to risk free pay off:\n",
    "\n",
    "**<center> (1+r<sub>BBB</sub>)\\*p\\*RR + (1+r<sub>BBB</sub>)*(1 - p) = 1+r<sub>f</sub> </center>**\n",
    "\n",
    "- Plug in the numbers and solve for **r<sub>BBB</sub>**\n",
    "- The yield on this BBB-rated bond is **6.0847%**\n",
    "</details> \n",
    "\n",
    "#### Practice\n",
    "- See [Problem 1](#problem-1) for more practice!\n",
    "---"
   ]
  },
  {
   "cell_type": "markdown",
   "metadata": {},
   "source": [
    "#### ![](./pic/dollarnew15.png) Credit risk structure of interest rates\n",
    "\n",
    "<iframe title=\"Credit Risk - Credit Structure and Yield Spread\" width=\"512\" height=\"288\" allowTransparency=\"true\" mozallowfullscreen webkitallowfullscreen allowfullscreen style=\"background-color:transparent;\" frameBorder=\"0\" src=\"https://app.vidgrid.com/embed/ssJ3C9JbLQWy\"></iframe>\n",
    "\n",
    "---"
   ]
  },
  {
   "cell_type": "markdown",
   "metadata": {},
   "source": [
    "<a id='example-1b'></a>\n",
    "\n",
    "#### ![](./pic/note1515.png) Example 1B\n",
    "\n",
    ">Consider the 1-year zero-coupon bond with a BBB rating, whose yield we calculated in Example 1A. What is the yield spread on this bond? Assume that the following are yields on Treasury STRIPS of different maturity:\n",
    ">\n",
    ">Maturity     | YTM\n",
    ">------------ | -------------\n",
    ">1            | 6%            \n",
    ">2            | 6.2%         \n",
    ">3            | 6.6%           \n",
    "\n",
    "\n",
    "<details>\n",
    "  <summary>Click for Solution!</summary>\n",
    "\n",
    "#### ![](./pic/light.png) Solution\n",
    "- To calculate the yield spread for a risk bond, we have to use the treasury bond with the same maturity. In this case, it is the 1-year Treasury with YTM = 6%.\n",
    "</details> \n",
    "\n",
    "---"
   ]
  },
  {
   "cell_type": "markdown",
   "metadata": {},
   "source": [
    "## Credit Risk Models\n",
    "([*back to top*](#credit-risk))!\n",
    "\n",
    "- Now we gonna begin our discussion about credit risk models. The purpose of these models is to provide us with an assessment of the ability to pay. You will see that different models take into account different inputs to produce a measure for credit risk. \n",
    "- We will study 3 different models of credit scores:\n",
    "    - Qualitative models: **The 4Cs of Credit Analysis**\n",
    "    - Quantative Models (Credit-scoring models): **Altman's Z-score**\n",
    "    - Newer models: **Term-Structured based Method**\n",
    "\n",
    "\n",
    "---"
   ]
  },
  {
   "cell_type": "markdown",
   "metadata": {},
   "source": [
    "#### ![](./pic/dollarnew15.png) Qualitative Models (The 4Cs)\n",
    "\n",
    "<iframe title=\"Credit Risk - 4Cs\" width=\"512\" height=\"288\" allowTransparency=\"true\" mozallowfullscreen webkitallowfullscreen allowfullscreen style=\"background-color:transparent;\" frameBorder=\"0\" src=\"https://app.vidgrid.com/embed/IdOKJXvDe6eM\"></iframe>\n",
    "  \n",
    "---"
   ]
  },
  {
   "cell_type": "markdown",
   "metadata": {},
   "source": [
    "#### ![](./pic/dollarnew15.png) Quantitative Models (Credit-scoring models)\n",
    "\n",
    "<iframe title=\"Credit Risk - Credit Scoring Models\" width=\"512\" height=\"288\" allowTransparency=\"true\" mozallowfullscreen webkitallowfullscreen allowfullscreen style=\"background-color:transparent;\" frameBorder=\"0\" src=\"https://app.vidgrid.com/embed/jZi4jZnM6Zz3\"></iframe>\n",
    "  \n",
    "---"
   ]
  },
  {
   "cell_type": "markdown",
   "metadata": {},
   "source": [
    "<a id='example-2'></a>\n",
    "#### ![](./pic/note1515.png) Example 2\n",
    "\n",
    ">Consider a firm with the following characteristics:\n",
    "> - X1 (Working capital/total assets)=.01\n",
    "> - X2 (Retained earnings/total assets)=.1\n",
    "> - X3 (EBIT/total assets)= -0.25\n",
    "> - X4 (Market value equity/ book value LT debt)=.4\n",
    "> - X5 (Sales/total assets)=1\n",
    ">Calculate and interpret the Z score for this firm.\n",
    "\n",
    "\n",
    "<details>\n",
    "  <summary>Click for Solution!</summary>\n",
    "\n",
    "#### ![](./pic/light.png) Solution\n",
    "\n",
    "- We already have the the parameter for Z-score model:\n",
    "\n",
    "**<center> Z=1.2X<sub>1</sub>+ 1.4X<sub>2</sub> +3.3X<sub>3</sub> + 0.6X<sub>4</sub> + 1.0X<sub>5</sub> </center>**\n",
    "\n",
    "- Plug in the numbers and solve for Z-score.\n",
    "</details> \n",
    "\n",
    "---"
   ]
  },
  {
   "cell_type": "markdown",
   "metadata": {},
   "source": [
    "#### ![](./pic/dollarnew15.png) Term Structure Based Method\n",
    "\n",
    "<iframe title=\"Credit Risk - Structure Based Method\" width=\"512\" height=\"288\" allowTransparency=\"true\" mozallowfullscreen webkitallowfullscreen allowfullscreen style=\"background-color:transparent;\" frameBorder=\"0\" src=\"https://app.vidgrid.com/embed/oodZlZwYejAC\"></iframe>\n",
    "  \n",
    "  \n",
    "---"
   ]
  },
  {
   "cell_type": "markdown",
   "metadata": {},
   "source": [
    "<a id='example-3'></a>\n",
    "\n",
    "\n",
    "#### ![](./pic/note1515.png) Example 3\n",
    "\n",
    "(*Read the Example and think before you watch!*)\n",
    "\n",
    "\n",
    "<iframe title=\"Credit Risk - Example 3\" width=\"512\" height=\"288\" allowTransparency=\"true\" mozallowfullscreen webkitallowfullscreen allowfullscreen style=\"background-color:transparent;\" frameBorder=\"0\" src=\"https://app.vidgrid.com/embed/LABLrsVdDs71\"></iframe>\n",
    "  \n",
    ">Consider a firm whose 1-year zero-coupon bonds currently yield 10%. The yield on 1-year zero-coupon Treasury bonds is 8%. What is this firm’s implied probability of default if the recovery rate expected by bondholders is zero?\n",
    "\n",
    "<details>\n",
    "  <summary>Click for Solution!</summary>\n",
    "\n",
    "#### ![](./pic/light.png) Solution\n",
    "       \n",
    "- Risk adjusted payoff is equal to risk free pay off:\n",
    "\n",
    "**<center> (1+r<sub>risky</sub>)\\*p\\*RR + (1+r<sub>risky</sub>)*(1 - p) = 1+r<sub>f</sub> </center>**\n",
    "\n",
    "- Plug in the numbers and solve for p, which should be equal to **1.8182%**\n",
    "    \n",
    "</details> \n",
    "\n",
    "#### Practice\n",
    "- See [Problem 2](#problem-2) for more practice!\n",
    "---"
   ]
  },
  {
   "cell_type": "markdown",
   "metadata": {},
   "source": [
    "<a id='example-4'></a>\n",
    "\n",
    "#### ![](./pic/note1515.png) Example 4\n",
    "\n",
    "(*Read the Example and think before you watch!*)\n",
    "\n",
    "\n",
    "<iframe title=\"Credit Risk - Example 4\" width=\"512\" height=\"288\" allowTransparency=\"true\" mozallowfullscreen webkitallowfullscreen allowfullscreen style=\"background-color:transparent;\" frameBorder=\"0\" src=\"https://app.vidgrid.com/embed/BH43CWLz9qeU\"></iframe>\n",
    "  \n",
    ">Consider a firm whose 1-year zero-coupon bonds currently yield 10%. The yield on 1-year zero-coupon Treasury bonds is 8%. What is this firm’s implied probability of default if bondholders expect to recover \\$.60 on the dollar if the firm defaults? Assume periodicity of 1.\n",
    "\n",
    "<details>\n",
    "  <summary>Click for Solution!</summary>\n",
    "\n",
    "#### ![](./pic/light.png) Solution\n",
    "       \n",
    "- Risk adjusted payoff is equal to risk free pay off:\n",
    "\n",
    "**<center> (1+r<sub>risky</sub>)\\*p\\*RR + (1+r<sub>risky</sub>)*(1 - p) = 1+r<sub>f</sub> </center>**\n",
    "\n",
    "- Plug in the numbers and solve for p, which should be equal to **4.5455%**\n",
    "    \n",
    "</details> \n",
    "\n",
    "---"
   ]
  },
  {
   "cell_type": "markdown",
   "metadata": {},
   "source": [
    "<a id='example-5'></a>\n",
    "\n",
    "#### ![](./pic/note1515.png) Example 5\n",
    "\n",
    "(*Read the Example and think before you watch!*)\n",
    "\n",
    "\n",
    "<iframe title=\"Credit Risk - Example 5\" width=\"512\" height=\"288\" allowTransparency=\"true\" mozallowfullscreen webkitallowfullscreen allowfullscreen style=\"background-color:transparent;\" frameBorder=\"0\" src=\"https://app.vidgrid.com/embed/2VqHy2AA9ndL\"></iframe>\n",
    "  \n",
    "\n",
    ">Consider a firm whose 1-year zero-coupon bonds currently yield 10%. The yield on 1-year zero-coupon Treasury bonds is 8%. What is this firm’s implied probability of default if when the firm defaults bondholders expect to recover \\$.60 on the dollar with probability 1/3 and \\$.40 on the dollar with probability 2/3?\n",
    "\n",
    "\n",
    "<details>\n",
    "  <summary>Click for Solution!</summary>\n",
    "\n",
    "#### ![](./pic/light.png) Solution\n",
    "       \n",
    "- Risk adjusted payoff is equal to risk free pay off:\n",
    "\n",
    "**<center> (1+r<sub>risky</sub>)\\*p\\*RR + (1+r<sub>risky</sub>)*(1 - p) = 1+r<sub>f</sub> </center>**\n",
    "\n",
    "- First calculate the expected RR which should be equal to **46.67%**\n",
    "    \n",
    "- Plug in the numbers and solve for p, which should be equal to **3.4093%**\n",
    "    \n",
    "</details> \n",
    "\n",
    "---"
   ]
  },
  {
   "cell_type": "markdown",
   "metadata": {},
   "source": [
    "<a id='example-6'></a>\n",
    "\n",
    "#### ![](./pic/note1515.png) Example 6\n",
    "\n",
    "(*Read the Example and think before you watch!*)\n",
    "\n",
    "\n",
    "<iframe title=\"Credit Risk - Example 6\" width=\"512\" height=\"288\" allowTransparency=\"true\" mozallowfullscreen webkitallowfullscreen allowfullscreen style=\"background-color:transparent;\" frameBorder=\"0\" src=\"https://app.vidgrid.com/embed/SSAiF0PraoS0\"></iframe>\n",
    "  \n",
    "\n",
    ">Consider a firm whose 1-year zero-coupon bonds currently yield 10%, and 2-year bonds currently yield 12%. The yields on 1-year and 2-year zero-coupon Treasury bonds (i.e. the 1-year and 2-year spot rates) are 8% and 9% respectively. What is this firm’s implied cumulative probability of default if bondholders do not expect to recover anything in the case of default?\n",
    "\n",
    "\n",
    "<details>\n",
    "  <summary>Click for Solution!</summary>\n",
    "\n",
    "#### ![](./pic/light.png) Solution\n",
    "       \n",
    "- Risk adjusted payoff is equal to risk free pay off:\n",
    "\n",
    "**<center> (1+r<sub>risky</sub>)\\*p\\*RR + (1+r<sub>risky</sub>)*(1 - p) = 1+r<sub>f</sub> </center>**\n",
    "\n",
    "- The marginal probability of default in year 1 is **1.8182%**\n",
    "- To apply our risk-neutral valuation technique to the second year, we need to calculate the expected return over that year from corporate and from Treasury bonds, i.e. the 1-year forward rates one year from today (f<sub>1,2</sub>). Use this equation: **(1+r<sub>1</sub>)(1+f<sub>1,2</sub>)=(1+r<sub>2</sub>)^2**\n",
    "- The forward rate for risky corporate yield is **14.0364%**\n",
    "- The forward rate for risky-free yield is **10.0093%** \n",
    "- The marginal probability of default in year 2 is **3.5314%**   \n",
    "- The implied cumulative probability of default is **5.2854%**\n",
    "    \n",
    "</details> \n",
    "\n",
    "#### Practice\n",
    "- See [Problem 3](#problem-3) for more practice!\n",
    "---"
   ]
  },
  {
   "cell_type": "markdown",
   "metadata": {},
   "source": [
    "## Bond Factor Models\n",
    "([*back to top*](#credit-risk))!"
   ]
  },
  {
   "cell_type": "markdown",
   "metadata": {},
   "source": [
    "#### ![](./pic/dollarnew15.png) Bond Factors Model\n",
    "\n",
    "<iframe title=\"Credit Risk - Factor Models\" width=\"512\" height=\"288\" allowTransparency=\"true\" mozallowfullscreen webkitallowfullscreen allowfullscreen style=\"background-color:transparent;\" frameBorder=\"0\" src=\"https://app.vidgrid.com/embed/yYQpKWV6wj6b\"></iframe>\n",
    "\n",
    "---"
   ]
  },
  {
   "cell_type": "markdown",
   "metadata": {},
   "source": [
    "<a id='example-7'></a>\n",
    "\n",
    "\n",
    "#### ![](./pic/note1515.png) Example 7\n",
    "\n",
    ">A bond has an expected return of 17.6%, sensitivity to the term factor of 1.45 and to the default factor of 0.86. The current term risk premium is 3.2%. The risk free rate of return is 5%. What is the default risk premium if no arbitrage opportunities exist?\n",
    "\n",
    "\n",
    "<details>\n",
    "  <summary>Click for Solution!</summary>\n",
    "\n",
    "#### ![](./pic/light.png) Solution\n",
    "       \n",
    "- **Bond Expected Return = Risk-free + Beta_Term * Term_premium + Beta_Default * Default_premium**\n",
    "    \n",
    "- Plug in the numbers and solve for Default_premium you should get **9.2558%**\n",
    "    \n",
    "</details> \n",
    "\n",
    "---"
   ]
  },
  {
   "cell_type": "markdown",
   "metadata": {},
   "source": [
    "## Practice Problems\n",
    "([*back to top*](#credit-risk))!"
   ]
  },
  {
   "cell_type": "markdown",
   "metadata": {},
   "source": [
    "<a id='problem-1'></a>\n",
    "#### ![](./pic/note1515.png) Problem 1\n",
    "Consider a 1-year zero-coupon bond that has a CCC rating. Assume that this bond is senior secured (historical recovery rate = 42.7%). The yield on a 1-year zero-coupon Treasury bond is 2%. What should be the yield on this CCC-rated bond? (Assume periodicity of 1 and probability of default 20%)\n",
    "\n",
    "<details>\n",
    "  <summary>Click for Solution!</summary>\n",
    "    \n",
    "#### ![](./pic/light.png) Solution\n",
    "\n",
    "- The yield on this CCC-rated bond is **15.02022%**\n",
    "\n",
    "</details>    \n",
    "&nbsp \n",
    "\n",
    "([*back to text*](#example-1a))"
   ]
  },
  {
   "cell_type": "markdown",
   "metadata": {},
   "source": [
    "<a id='problem-2'></a>\n",
    "#### ![](./pic/note1515.png) Problem 2\n",
    "Consider a firm whose 1-year zero-coupon bonds currently yield 8.2%. The yield on 6-month zero-coupon Treasury bonds is 6%. The yield on 1-year zero-coupon Treasury bonds is 7%. What is this firm’s implied probability of default if the recovery rate expected by bondholders is zero?\n",
    "\n",
    "<details>\n",
    "  <summary>Click for Solution!</summary>\n",
    "\n",
    "#### ![](./pic/light.png) Solution\n",
    "       \n",
    "- Risk adjusted payoff is equal to risk free pay off:\n",
    "\n",
    "**<center> (1+r<sub>risky</sub>)\\*p\\*RR + (1+r<sub>risky</sub>)*(1 - p) = 1+r<sub>f</sub> </center>**\n",
    "    \n",
    "- Pick the proper bond yield: **The yield on 1-year zero-coupon Treasury bonds is 7%**\n",
    "\n",
    "- Plug in the numbers and solve for p, which should be equal to **1.1091%**\n",
    "    \n",
    "</details> \n",
    "&nbsp \n",
    "\n",
    "([*back to text*](#example-3))"
   ]
  },
  {
   "cell_type": "markdown",
   "metadata": {},
   "source": [
    "<a id='problem-3'></a>\n",
    "#### ![](./pic/note1515.png) Problem 3\n",
    ">Consider a firm whose 1-year zero-coupon bonds currently yield 6.7%, and 2-year bonds currently yield 9.6%. The yields on 1-year and 2-year zero-coupon Treasury bonds (i.e. the 1-year and 2-year spot rates) are 5.2% and 7.5% respectively. What is this firm’s implied cumulative probability of default if bondholders do not expect to recover anything in the case of default?\n",
    "\n",
    "\n",
    "<details>\n",
    "  <summary>Click for Solution!</summary>\n",
    "\n",
    "#### ![](./pic/light.png) Solution\n",
    "\n",
    "- The marginal probability of default in year 1 is **1.4058%**\n",
    "- The forward rate for risky corporate yield is **12.5788%**\n",
    "- The forward rate for risky-free yield is **9.8503%** \n",
    "- The marginal probability of default in year 2 is **2.4237%**   \n",
    "- The implied cumulative probability of default is **3.7954%**\n",
    "    \n",
    "</details> \n",
    "&nbsp \n",
    "\n",
    "([*back to text*](#example-6))!"
   ]
  },
  {
   "cell_type": "markdown",
   "metadata": {},
   "source": [
    "([*back to top*](#credit-risk))!"
   ]
  }
 ],
 "metadata": {
  "date": 1579028399.5295208,
  "download_nb": false,
  "filename": "control_flow.rst",
  "filename_with_path": "python_fundamentals/control_flow",
  "kernelspec": {
   "display_name": "Python 3",
   "language": "python",
   "name": "python3"
  },
  "language_info": {
   "codemirror_mode": {
    "name": "ipython",
    "version": 3
   },
   "file_extension": ".py",
   "mimetype": "text/x-python",
   "name": "python",
   "nbconvert_exporter": "python",
   "pygments_lexer": "ipython3",
   "version": "3.7.4"
  },
  "title": "Control Flow"
 },
 "nbformat": 4,
 "nbformat_minor": 4
}
