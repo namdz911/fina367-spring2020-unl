{
 "cells": [
  {
   "cell_type": "markdown",
   "metadata": {},
   "source": [
    "<div class=\"sidebar\">\n",
    "  <a href=\"readme.html\" class=\"module\"><i class=\"fa fa-fw fa-home\"></i> Home</a>\n",
    "  <a> </a>   \n",
    "  <a href=\"credit_risk.html\" class=\"module\"><strong>Credit Risk</strong>  \n",
    "  <a href=\"credit_risk.html#credit-ratings\">Credit Ratings</a>    \n",
    "  <a href=\"credit_risk.html#credit-risk-models\">Credit Risk Models</a>\n",
    "  <a href=\"credit_risk.html#bond-factor-models\">Bond Factor Models</a>\n",
    "  <a href=\"credit_risk.html#practice-problems\">Practice Problems</a> \n",
    "  <a> </a>       \n",
    "  <a href=\"call_put_option.html\" class=\"module\"><strong>Callable and Putable Bonds</strong>\n",
    "  <a href=\"call_put_option.html#introduction-to-options\">Introduction to Options</a>    \n",
    "  <a href=\"call_put_option.html#introduction-to-bonds-with-embedded-options\">Introduction to Bonds with Embedded Options</a> \n",
    "  <a href=\"call_put_option.html#gains-and-loses-from-calling-a-bond\">Gains and Loses from Calling a Bond</a> \n",
    "  <a href=\"call_put_option.html#pricing-callable-bonds\">Pricing Callable Bonds</a> \n",
    "  <a href=\"call_put_option.html#return-on-callable-bonds\">Return on Callable Bonds</a> \n",
    "  <a href=\"call_put_option.html#practice-problems\">Practice Problems</a>\n",
    "  <a> </a>     \n",
    "  <a href=\"convertible_bonds.html\" class=\"module\"><strong>Convertible Bonds</strong>\n",
    "  <a href=\"convertible_bonds.html#introduction-to-convertible-bonds\">Introduction to Convertible Bonds</a> \n",
    "  <a href=\"convertible_bonds.html#traditional-analysis-of-convertibles\">Traditional Analysis of Convertibles</a> \n",
    "  <a href=\"convertible_bonds.html#pricing-convertible-bonds\">Pricing Convertible Bonds</a> \n",
    "  <a href=\"convertible_bonds.html#practice-problems\">Practice Problems</a> \n",
    "  <a> </a>\n",
    "  <a href=\"mortgage.html\" class=\"active\"><strong>Residential Mortgages</strong>\n",
    "  <a href=\"mortgage.html#introduction-to-residential-mortgages\">Introduction to Residential Mortgages</a> \n",
    "  <a href=\"mortgage.html#risks-associated-with-investing-in-mortgages\">Risks Associated with Investing in Mortgages</a>\n",
    "  <a href=\"mortgage.html#residential-mortgage-backed-securities\">Residential Mortgage-backed Securities</a>    \n",
    "  <a> </a>      \n",
    "<link rel=\"stylesheet\" type=\"text/css\" href=\"./sidebar.css\">\n",
    "<link rel=\"stylesheet\" href=\"https://cdnjs.cloudflare.com/ajax/libs/font-awesome/4.7.0/css/font-awesome.min.css\">      \n",
    "</div>\n",
    "\n",
    "<div class=\"main\">\n",
    "\n"
   ]
  },
  {
   "cell_type": "markdown",
   "metadata": {},
   "source": [
    "# Residential Mortgages\n",
    "\n",
    "**Before you start**\n",
    "- Optional Readings: Chapter 7.4\n",
    "- <a href=\"./pdf/mortgage.pdf\" target=\"_blank\">Link to download PowerPoint Slides P1 !</a>\n",
    "- <a href=\"./pdf/rmbs.pdf\" target=\"_blank\">Link to download PowerPoint Slides P2 !</a>"
   ]
  },
  {
   "cell_type": "markdown",
   "metadata": {},
   "source": [
    "## Outline\n",
    "\n",
    "- [Residential Mortgages](#residential-mortgages)  \n",
    "  - [Introduction to Residential Mortgages](#introduction-to-residential-mortgages)  \n",
    "  - [Risks Associated with Investing in Mortgages](#risks-associated-with-investing-in-mortgages)  \n",
    "  - [Residential Mortgage-backed Securities](#residential-mortgage-backed-securities)\n",
    "  - [Practice Problems](#practice-problems)\n",
    "\n",
    "\n",
    "\n",
    "\n",
    "\n",
    "- In Class Example List: Example [1A](#example-1a), [1B](#example-1b), [1C](#example-1c).\n",
    "---\n",
    "\n"
   ]
  },
  {
   "cell_type": "markdown",
   "metadata": {},
   "source": [
    "## Introduction to Residential Mortgages\n",
    "\n",
    "([*back to top*](#residential-mortgages)!)"
   ]
  },
  {
   "cell_type": "markdown",
   "metadata": {},
   "source": [
    "#### ![](./pic/dollarnew15.png) Basics of RS\n",
    "\n",
    "<iframe title=\"Intro to Residential Mortgages\" width=\"512\" height=\"288\" allowTransparency=\"true\" mozallowfullscreen webkitallowfullscreen allowfullscreen style=\"background-color:transparent;\" frameBorder=\"0\" src=\"https://app.vidgrid.com/embed/27jUidmLcrdr\"></iframe>\n",
    "  \n",
    "---"
   ]
  },
  {
   "cell_type": "markdown",
   "metadata": {},
   "source": [
    "<a id='example-1a'></a>\n",
    "\n",
    "#### ![](./pic/note1515.png) Example 1A\n",
    "\n",
    "<iframe title=\"Example 1A - Residential Mortgages\" width=\"512\" height=\"288\" allowTransparency=\"true\" mozallowfullscreen webkitallowfullscreen allowfullscreen style=\"background-color:transparent;\" frameBorder=\"0\" src=\"https://app.vidgrid.com/embed/pCk7aXcwMg9U\"></iframe>\n",
    "  \n",
    "---"
   ]
  },
  {
   "cell_type": "markdown",
   "metadata": {},
   "source": [
    "<a id='example-1b'></a>\n",
    "\n",
    "#### ![](./pic/note1515.png) Example 1B\n",
    "\n",
    "<iframe title=\"Example 1B - Residential Mortgages\" width=\"512\" height=\"288\" allowTransparency=\"true\" mozallowfullscreen webkitallowfullscreen allowfullscreen style=\"background-color:transparent;\" frameBorder=\"0\" src=\"https://app.vidgrid.com/embed/mo4VjTtGSRlW\"></iframe>\n"
   ]
  },
  {
   "cell_type": "markdown",
   "metadata": {},
   "source": [
    "(*You're done with a section! Good Job!*)\n",
    "\n",
    "---"
   ]
  },
  {
   "cell_type": "markdown",
   "metadata": {},
   "source": [
    "## Risks Associated with Investing in Mortgages\n",
    "\n",
    "([*back to top*](#residential-mortgages)!)"
   ]
  },
  {
   "cell_type": "markdown",
   "metadata": {},
   "source": [
    "#### ![](./pic/dollarnew15.png) 4 type of risks\n",
    "\n",
    "<iframe title=\"Risks Associated with Mortgages\" width=\"512\" height=\"288\" allowTransparency=\"true\" mozallowfullscreen webkitallowfullscreen allowfullscreen style=\"background-color:transparent;\" frameBorder=\"0\" src=\"https://app.vidgrid.com/embed/IGo9ca7z0Ezu\"></iframe>\n",
    "  \n",
    "---"
   ]
  },
  {
   "cell_type": "markdown",
   "metadata": {},
   "source": [
    "<a id='example-1c'></a>\n",
    "\n",
    "#### ![](./pic/note1515.png) Example 1C\n",
    "\n",
    "<iframe title=\"Example 1C - Refinance\" width=\"512\" height=\"288\" allowTransparency=\"true\" mozallowfullscreen webkitallowfullscreen allowfullscreen style=\"background-color:transparent;\" frameBorder=\"0\" src=\"https://app.vidgrid.com/embed/8vaq4HRA5LL9\"></iframe>\n"
   ]
  },
  {
   "cell_type": "markdown",
   "metadata": {},
   "source": [
    "(*You're done with a section! Good Job!*)\n",
    "\n",
    "---"
   ]
  },
  {
   "cell_type": "markdown",
   "metadata": {},
   "source": [
    "## Residential Mortgage-backed Securities\n",
    "([*back to top*](#residential-mortgages)!)"
   ]
  },
  {
   "cell_type": "markdown",
   "metadata": {},
   "source": [
    "#### ![](./pic/dollarnew15.png) What is Securitization?\n",
    "\n",
    "<iframe title=\"What is securitization?\" width=\"512\" height=\"288\" allowTransparency=\"true\" mozallowfullscreen webkitallowfullscreen allowfullscreen style=\"background-color:transparent;\" frameBorder=\"0\" src=\"https://app.vidgrid.com/embed/RTBS73GsF1hc\"></iframe>\n",
    "  \n",
    "---"
   ]
  },
  {
   "cell_type": "markdown",
   "metadata": {},
   "source": [
    "#### ![](./pic/dollarnew15.png) Why Securitization?\n",
    "\n",
    "<iframe title=\"Mortgage Market \" width=\"512\" height=\"288\" allowTransparency=\"true\" mozallowfullscreen webkitallowfullscreen allowfullscreen style=\"background-color:transparent;\" frameBorder=\"0\" src=\"https://app.vidgrid.com/embed/Db1uzsQRSzVO\"></iframe>\n",
    "  \n",
    "---"
   ]
  },
  {
   "cell_type": "markdown",
   "metadata": {},
   "source": [
    "#### ![](./pic/dollarnew15.png) Type of RMBS\n",
    "\n",
    "<iframe title=\"Types of RMBS\" width=\"512\" height=\"288\" allowTransparency=\"true\" mozallowfullscreen webkitallowfullscreen allowfullscreen style=\"background-color:transparent;\" frameBorder=\"0\" src=\"https://app.vidgrid.com/embed/KenlgiO3G96A\"></iframe>\n",
    "  \n",
    "---"
   ]
  },
  {
   "cell_type": "markdown",
   "metadata": {},
   "source": [
    "(*You're done with a section! Good Job!*)\n",
    "\n",
    "---"
   ]
  },
  {
   "cell_type": "markdown",
   "metadata": {},
   "source": [
    "## Practice Problems\n",
    "\n",
    "([*back to top*](#residential-mortgages)!)"
   ]
  },
  {
   "cell_type": "markdown",
   "metadata": {},
   "source": [
    "</div>"
   ]
  }
 ],
 "metadata": {
  "kernelspec": {
   "display_name": "Python 3",
   "language": "python",
   "name": "python3"
  },
  "language_info": {
   "codemirror_mode": {
    "name": "ipython",
    "version": 3
   },
   "file_extension": ".py",
   "mimetype": "text/x-python",
   "name": "python",
   "nbconvert_exporter": "python",
   "pygments_lexer": "ipython3",
   "version": "3.7.4"
  }
 },
 "nbformat": 4,
 "nbformat_minor": 4
}
