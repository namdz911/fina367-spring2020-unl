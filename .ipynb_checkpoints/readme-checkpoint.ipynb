{
 "cells": [
  {
   "cell_type": "markdown",
   "metadata": {},
   "source": [
    "*Instructor: Nam Le*\n"
   ]
  },
  {
   "cell_type": "markdown",
   "metadata": {},
   "source": [
    "## On-the-run\n",
    "\n",
    "\n",
    "- `03/30-04/05`: We will cover the rest of **Credit Risks** and **Intro to Options** this week.\n",
    "\n",
    "\n",
    "- Link to Materials:\n",
    "    - [Credit Risks](credit_risk.html)\n",
    "    \n",
    "    \n",
    "- Office hour starts on `Thursday 04/02 at 3:30-4:45pm US. Central Time`. \n",
    "\n",
    "\n",
    "- Good Readings on Covid-19:\n",
    "    - <a href=\"https://medium.com/@tomaspueyo/coronavirus-the-hammer-and-the-dance-be9337092b56\" target=\"_blank\">Coronavirus: The Hammer and the Dance</a>"
   ]
  },
  {
   "cell_type": "markdown",
   "metadata": {},
   "source": [
    "## Generic\n",
    "- [Course Overview](syllabus.html)"
   ]
  },
  {
   "cell_type": "markdown",
   "metadata": {},
   "source": [
    "## Core Materials\n",
    "- **Modules 5**: Risks associated with bonds\n",
    "    - [Credit Risks](credit_risk.html)\n",
    "\n",
    "\n",
    "- **Modules 6**: Bonds with embedded option\n",
    "\n",
    "\n",
    "- **Modules 7**: Residential mortgages & MBS"
   ]
  },
  {
   "cell_type": "markdown",
   "metadata": {},
   "source": [
    "## Supplementary Materials\n",
    "- Get comfortable with the [Financial Calculator](financial_calculator.html)  "
   ]
  },
  {
   "cell_type": "markdown",
   "metadata": {},
   "source": [
    "\n",
    "<a id='deterministic-asset-pricing'></a>"
   ]
  },
  {
   "cell_type": "markdown",
   "metadata": {},
   "source": [
    "\n",
    "<a id='npv'></a>"
   ]
  }
 ],
 "metadata": {
  "date": 1579028399.5295208,
  "download_nb": false,
  "filename": "control_flow.rst",
  "filename_with_path": "python_fundamentals/control_flow",
  "kernelspec": {
   "display_name": "Python 3",
   "language": "python",
   "name": "python3"
  },
  "language_info": {
   "codemirror_mode": {
    "name": "ipython",
    "version": 3
   },
   "file_extension": ".py",
   "mimetype": "text/x-python",
   "name": "python",
   "nbconvert_exporter": "python",
   "pygments_lexer": "ipython3",
   "version": "3.7.4"
  },
  "title": "Control Flow"
 },
 "nbformat": 4,
 "nbformat_minor": 4
}
