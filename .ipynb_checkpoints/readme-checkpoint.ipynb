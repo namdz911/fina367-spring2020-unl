{
 "cells": [
  {
   "cell_type": "markdown",
   "metadata": {},
   "source": [
    "*Instructor: Nam Le*"
   ]
  },
  {
   "cell_type": "markdown",
   "metadata": {},
   "source": [
    "## On-the-run\n",
    "- **PLEASE READ THIS <a href=\"https://namdz911.github.io/fina367-spring2020-unl/syllabus.html\" target=\"_blank\">PAGE</a> FOR INSTRUCTIONS!**\n",
    "\n",
    "\n",
    "- Some Notes:\n",
    "    - You can adjust the speed of the video to your liking (the **`Setting`** button on the lower right corner of the videos).\n",
    "    - Some videos will contain nagivation within themselves. \n",
    "    - Before watching in-class example's walkthroughs, I suggest you read and try to at least think about the problem. \n",
    "\n",
    "\n",
    "- Next Office Hour: **`Thursday 04/09 at 3:30-4:30 pm US. Central Time`**. Click **[HERE](https://unl.zoom.us/j/499542538)** to join the meeting on Zoom!\n",
    "\n",
    "- **`04/06-04/10`: Callable and Putable Bonds (<a href=\"./pdf/callable_putable_bonds.pdf\" target=\"_blank\">PPT Slides!</a>)**\n",
    "    - [Intro to Bonds with Embedded Options](call_put_option.html#introduction-to-bonds-with-embedded-options)\n",
    "    - [Gains and Loses from Calling a Bond](call_put_option.html#gains-and-loses-from-calling-a-bond) \n",
    "    - [Pricing Callable Bonds](call_put_option.html#pricing-callable-bonds) \n",
    "    - Return on Callable Bonds (*To Be Updated*)  \n",
    "    - Duration and Convexity of Callable Bonds (*To Be Updated*)  \n",
    "\n",
    "<figure class=\"video_container\">\n",
    "<iframe width=\"730\" height=\"440\" src=\"https://docs.google.com/spreadsheets/d/e/2PACX-1vTACG5BU7JROotI3occp2Ccon9G-6xMuxVMf46dtLno8zzIiAGE5Ab38YcGl2XsivYorNnvFzt_WpFl/pubhtml?widget=true&amp;headers=false\"></iframe>\n",
    "</figure>\n"
   ]
  },
  {
   "cell_type": "markdown",
   "metadata": {},
   "source": [
    "## Generic\n",
    "- [Course Overview](syllabus.html)"
   ]
  },
  {
   "cell_type": "markdown",
   "metadata": {},
   "source": [
    "## Core Materials\n",
    "- **Modules 5**: Risks associated with bonds\n",
    "    - [Credit Risks](credit_risk.html)\n",
    "\n",
    "\n",
    "- **Modules 6**: Bonds with embedded option\n",
    "    - [Callable and Putable Bonds](call_put_option.html)\n",
    "\n",
    "\n",
    "\n",
    "- **Modules 7**: Residential mortgages & MBS"
   ]
  },
  {
   "cell_type": "markdown",
   "metadata": {},
   "source": [
    "## Supplementary Materials\n",
    "- Get comfortable with the [Financial Calculator](financial_calculator.html)  "
   ]
  },
  {
   "cell_type": "markdown",
   "metadata": {},
   "source": [
    "**Notice:** *This course is developed based on the FINA367 taught by Professor Stanislava Nikolova. Distribution of the materials is strictly prohibited without my consent.*"
   ]
  },
  {
   "cell_type": "markdown",
   "metadata": {},
   "source": [
    "\n",
    "<a id='npv'></a>"
   ]
  }
 ],
 "metadata": {
  "date": 1579028399.5295208,
  "download_nb": false,
  "filename": "control_flow.rst",
  "filename_with_path": "python_fundamentals/control_flow",
  "kernelspec": {
   "display_name": "Python 3",
   "language": "python",
   "name": "python3"
  },
  "language_info": {
   "codemirror_mode": {
    "name": "ipython",
    "version": 3
   },
   "file_extension": ".py",
   "mimetype": "text/x-python",
   "name": "python",
   "nbconvert_exporter": "python",
   "pygments_lexer": "ipython3",
   "version": "3.7.4"
  },
  "title": "Control Flow"
 },
 "nbformat": 4,
 "nbformat_minor": 4
}
