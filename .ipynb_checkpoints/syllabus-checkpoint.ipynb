{
 "cells": [
  {
   "cell_type": "markdown",
   "metadata": {},
   "source": [
    "# Course Overview\n",
    "([*Back to Home Page*](readme.html)!)"
   ]
  },
  {
   "cell_type": "markdown",
   "metadata": {},
   "source": [
    "## Contact information\n",
    "* Instructor: Nam Le\n",
    "* My office: COB 423D\n",
    "* My email:  <a href=\"mailto:nam.le@huskers.unl.edu\" target=\"_blank\">nam.le@huskers.unl.edu</a>\n",
    "* Office hours: 3:30 - 4:30 pm, Tue & Thu or by appointments\n",
    "\n",
    "## A guide to the Web-Based FINA367\n",
    "\n",
    "To help you study well in an online setting, I created this <a href=\"https://namdz911.github.io/fina367-spring2020-unl/\" target=\"_blank\">website</a> which compiles everything you need for the course. From now on, the course materials will officially migrate to this site. Therefore, you should spend some time to get yourself acquainted with it. Here is some useful information to get you started. \n",
    "\n",
    "- **Communication**\n",
    "    - Communication is still through emails and Canvas. \n",
    "    - Updates and Tentative class schedule will be posted on the <a href=\"https://namdz911.github.io/fina367-spring2020-unl/\" target=\"_blank\">front page</a> under **\"On The Run\"**.\n",
    "        - You should follow this schedule to keep your self up to speed with the class\n",
    "        \n",
    "        \n",
    "- **Navigation**\n",
    "    - The site includes a fully functional navigation system with which you can move back and forth between different sections of a page. \n",
    "    - Each material page like <a href=\"https://namdz911.github.io/fina367-spring2020-unl/credit_risk.html\" target=\"_blank\">this one</a> starts with a note and an outline.\n",
    "    - The opening note provides some instruction to prepare you for the material presented on the page (readings, ppt). \n",
    "    - The outline shows the subsections of the page, which correspond to the ppt. \n",
    "    \n",
    "    \n",
    "- **Materials** \n",
    "    - Each topic is slided into small, digestible trunks, which give you more flexibility in studying. \n",
    "    - Everything is presented in the same order with the slide. I recommend you to start from the top and work your way down to the bottom. \n",
    "    - Video and program walk-throughs are embedded in the corresponding sections. \n",
    "        - Some narration will be added at times to point you in the right direction.\n",
    "        - After watching a problem walkthrough, I would recommend you try it again with the problem right below the video and click on solution to check your answer. You may find extra practice problems in the practice section (the navigation will help you jump back and forth)\n",
    "    - Some supplementary material is also provided. Use this to brush up your calculating skills.       \n",
    "        \n",
    "        \n",
    "- **Exams**\n",
    "    - Exam 4 will be replaced by a homework, with length no longer than the intended exam. I will allow you 2 days to finish. For certain problems, you would have to write down the answers just like in the exam to show me that you know the steps to solve the problem. I might or might not ask you to turn in that written part.\n",
    "    - The Final will be open notes open books and take 2 hours to complete. \n",
    "      \n",
    "      \n",
    "- **Polices**\n",
    "    - Polices remain consistent with originally stated in the Syllabus.\n",
    "    - Materials provided on this site is not to be distributed without my consent. \n",
    "\n",
    "\n"
   ]
  }
 ],
 "metadata": {
  "kernelspec": {
   "display_name": "Python 3",
   "language": "python",
   "name": "python3"
  },
  "language_info": {
   "codemirror_mode": {
    "name": "ipython",
    "version": 3
   },
   "file_extension": ".py",
   "mimetype": "text/x-python",
   "name": "python",
   "nbconvert_exporter": "python",
   "pygments_lexer": "ipython3",
   "version": "3.7.4"
  }
 },
 "nbformat": 4,
 "nbformat_minor": 4
}
