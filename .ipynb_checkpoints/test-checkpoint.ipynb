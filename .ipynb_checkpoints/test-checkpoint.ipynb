{
 "cells": [
  {
   "cell_type": "markdown",
   "metadata": {},
   "source": [
    "<div class=\"sidebar\">\n",
    "  <a href=\"readme.html\"><i class=\"fa fa-fw fa-home\"></i> Home</a>\n",
    "  <a> </a>   \n",
    "  <a class=\"active\">Module 5</a> \n",
    "  <a href=\"credit_risk.html\"><strong>Credit Risk</strong>\n",
    "  <a href=\"credit_risk.html#credit-ratings\">Credit Ratings</a>    \n",
    "  <a href=\"credit_risk.html#credit-risk-models\">Credit Risk Models</a> \n",
    "  <a href=\"credit_risk.html#bond-factor-models\">Bond Factor Models</a> \n",
    "  <a href=\"credit_risk.html#practice-problems\">Practice Problems</a>\n",
    "  <a> </a>     \n",
    "  <a class=\"active\">Module 6</a>     \n",
    "  <a href=\"call_put_option.html\"><h5>Callable and Putable Bonds</h5> \n",
    "  <a href=\"call_put_option.html#introduction-to-options\">Introduction to Options</a>    \n",
    "  <a href=\"call_put_option.html#introduction-to-bonds-with-embedded-options\">Introduction to Bonds with Embedded Options</a> \n",
    "  <a href=\"call_put_option.html#Gains and Loses from Calling a Bond\">Gains and Loses from Calling a Bond</a> \n",
    "  <a href=\"call_put_option.html#Pricing Callable Bonds\">Pricing Callable Bonds</a> \n",
    "  <a href=\"call_put_option.html#Return on Callable Bonds\">Return on Callable Bonds</a> \n",
    "  <a href=\"call_put_option.html#practice-problems\">Practice Problems</a>\n",
    "  <a> </a>     \n",
    "  <a href=\"convertible_bonds.html\"><h4>Convertible Bonds</h4>\n",
    "  <a href=\"convertible_bonds.html#introduction-to-convertible-bonds\">Introduction to Convertible Bonds</a> \n",
    "  <a href=\"convertible_bonds.html#traditional-analysis-of-convertibles\">Traditional Analysis of Convertibles</a> \n",
    "  <a href=\"convertible_bonds.html#pricing-convertible-bonds\">Pricing Convertible Bonds</a> \n",
    "  <a href=\"convertible_bonds.html#practice-problems\">Practice Problems</a> \n",
    "  <a> </a>  \n",
    "<link rel=\"stylesheet\" type=\"text/css\" href=\"./sidebar.css\">\n",
    "<link rel=\"stylesheet\" href=\"https://cdnjs.cloudflare.com/ajax/libs/font-awesome/4.7.0/css/font-awesome.min.css\">      \n",
    "</div>\n",
    "\n"
   ]
  },
  {
   "cell_type": "markdown",
   "metadata": {},
   "source": []
  },
  {
   "cell_type": "markdown",
   "metadata": {},
   "source": [
    "# Callable and Putable Bonds\n",
    "\n",
    "**Before you start**\n",
    "- Optional Readings: Chapter 9.2 - 9.4\n",
    "- <a href=\"./pdf/intro_to_option.pdf\" target=\"_blank\">Link to download PowerPoint Slides!</a>\n"
   ]
  },
  {
   "cell_type": "markdown",
   "metadata": {},
   "source": [
    "## Outline\n",
    "\n",
    "![alt text](./pic/test2.png) <a href=\"https://use.vg/i2TvPm\" target=\"_blank\">Link to Video!</a>\n",
    "\n",
    "- [Callable and Putable Bonds](#callable-and-putable-bonds)  \n",
    "  - [Introduction to Options](#introduction-to-options)  \n",
    "  - [Introduction to Bonds with Embedded Options](#introduction-to-bonds-with-embedded-options)  \n",
    "  - [Gains and Loses from Calling a Bond](#gains-and-loses-from-calling-a-bond) \n",
    "  - [Pricing Callable Bonds](#pricing-callable-bonds)  \n",
    "  - [Return on Callable Bonds](#return-on-callable-bonds)  \n",
    "  - [Duration and Convexity of Callable Bonds](#duration-and-convexity-of-callable-bonds) \n",
    "  - [Practice Problems](#practice-problems) \n",
    "\n",
    "---"
   ]
  },
  {
   "cell_type": "markdown",
   "metadata": {},
   "source": [
    "<a id='problem-1'></a>\n",
    "#### ![](./pic/note1515.png) Problem 1\n",
    "You buy a call option and buy a put option on bond X. The strike price of the call option is \\$90 and the strike price of the put option is \\$90. The call option premium is \\$5 and the put option premium is \\$2. Both options can be exercised only on their expiration date, which happens to be the same for the call and the put. If the price of bond X is \\$100 on the expiration date, what is your total payoff and then total profit from the options portfolio?\n",
    "\n",
    "<details>\n",
    "  <summary>Click for Solution!</summary>\n",
    "    \n",
    "#### Solution\n",
    "\n",
    " - At \\$100, the call option would be exercised and the payoff to the buyer would be **100-90=10**.\n",
    " - At \\$100, the put option will not be exercised and the payoff to the buyer would be **0**.\n",
    " - The total payoff from the options portfolio would be **10**.\n",
    " - The total profit from the options portfolio is **10-5-2=3**.\n",
    "\n",
    "</details>    \n",
    "\n",
    "([*back to text*](#example-3))"
   ]
  },
  {
   "cell_type": "markdown",
   "metadata": {},
   "source": [
    "<a id='problem-2'></a>\n",
    "#### ![](./pic/note1515.png) Problem 2\n",
    "You sell a call option and buy a put option on bond X. The strike price of the call option is \\$90 and the strike price of the put option is \\$105. The call option premium is \\$5 and the put option premium is \\$2. Both options can be exercised only on their expiration date, which happens to be the same for the call and the put. If the price of bond X is \\$100 on the expiration date, what is your total payoff and then total profit from the options portfolio?\n",
    "\n",
    "<details>\n",
    "  <summary>Click for Solution!</summary>\n",
    "    \n",
    "##### ![](./pic/light.png) Solution\n",
    "\n",
    " - At \\$100, the call option would be exercised and the payoff to the seller would be **–(100-90)=-10**.\n",
    " - At \\$100, the put option will be exercised and the payoff to the buyer would be **105-100=5**\n",
    " - The total payoff from the options portfolio would be **-5**.\n",
    " - The total profit from the options portfolio is **-5+5-2=-2**. (loss)\n",
    "</details>    \n",
    "\n",
    "([*back to text*](#example-3))"
   ]
  },
  {
   "cell_type": "markdown",
   "metadata": {},
   "source": [
    "<a id='problem-3'></a>\n",
    "#### ![](./pic/note1515.png) Problem 3\n",
    "Consider an 27 year 12.3 % coupon bond with \\$1,000 par selling for \\$937 (semi-annual coupons). \n",
    " - Suppose that the first par call for this bond is 1 years from now. \n",
    " - Assume that the bond is putable at par in 17 years. \n",
    " - If the call/put dates above are the only ones, what is the bond’s yield to worst? \n",
    "\n",
    "<details>\n",
    "  <summary>Click for Solution!</summary>\n",
    "    \n",
    "##### ![](./pic/light.png) Solution\n",
    " - Annualized YTM = **13.1562%**\n",
    " - Annualized YTFPC = **19.5374%**\n",
    " - Annualized YTFPP = **13.2406%**\n",
    " - Notice that there is no YTFC. So just compare the yields that you have to get YTWorst = **13.1562%**\n",
    "\n",
    "</details>    \n",
    "&nbsp    \n",
    "\n",
    "([*back to text*](#example-3))"
   ]
  },
  {
   "cell_type": "markdown",
   "metadata": {},
   "source": [
    "</div>"
   ]
  }
 ],
 "metadata": {
  "date": 1579028399.5295208,
  "download_nb": false,
  "filename": "control_flow.rst",
  "filename_with_path": "python_fundamentals/control_flow",
  "kernelspec": {
   "display_name": "Python 3",
   "language": "python",
   "name": "python3"
  },
  "language_info": {
   "codemirror_mode": {
    "name": "ipython",
    "version": 3
   },
   "file_extension": ".py",
   "mimetype": "text/x-python",
   "name": "python",
   "nbconvert_exporter": "python",
   "pygments_lexer": "ipython3",
   "version": "3.7.4"
  },
  "title": "Control Flow"
 },
 "nbformat": 4,
 "nbformat_minor": 4
}
