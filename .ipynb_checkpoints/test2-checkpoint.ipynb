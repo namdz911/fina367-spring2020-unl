{
 "cells": [
  {
   "cell_type": "markdown",
   "metadata": {},
   "source": [
    "<div id=\"mySidebar\" class=\"sidebar\">\n",
    "  <a href=\"javascript:void(0)\" class=\"closebtn\" onclick=\"closeNav()\">&times;</a>\n",
    "  <a href=\"#\">About</a>\n",
    "  <a href=\"#\">Services</a>\n",
    "  <a href=\"#\">Clients</a>\n",
    "  <a href=\"#\">Contact</a>\n",
    "</div>\n",
    "\n",
    "<link rel=\"stylesheet\" type=\"text/css\" href=\"./sidebar1.css\">  "
   ]
  },
  {
   "cell_type": "markdown",
   "metadata": {},
   "source": [
    "<section id=\"home\"><h2>Home</h2></section>\n",
    "#### ![](./pic/note1515.png) Problem 1\n",
    "You buy a call option and buy a put option on bond X. The strike price of the call option is \\$90 and the strike price of the put option is \\$90. The call option premium is \\$5 and the put option premium is \\$2. Both options can be exercised only on their expiration date, which happens to be the same for the call and the put. If the price of bond X is \\$100 on the expiration date, what is your total payoff and then total profit from the options portfolio?\n",
    "\n",
    "<details>\n",
    "  <summary>Click for Solution!</summary>\n",
    "    \n",
    "#### Solution\n",
    "\n",
    " - At \\$100, the call option would be exercised and the payoff to the buyer would be **100-90=10**.\n",
    " - At \\$100, the put option will not be exercised and the payoff to the buyer would be **0**.\n",
    " - The total payoff from the options portfolio would be **10**.\n",
    " - The total profit from the options portfolio is **10-5-2=3**.\n",
    "\n",
    "</details>    \n",
    "\n",
    "([*back to text*](#example-3))"
   ]
  },
  {
   "cell_type": "markdown",
   "metadata": {},
   "source": [
    "<section id=\"work\" data-sr><h2>Work</h2></section>\n",
    "#### ![](./pic/note1515.png) Problem 2\n",
    "You sell a call option and buy a put option on bond X. The strike price of the call option is \\$90 and the strike price of the put option is \\$105. The call option premium is \\$5 and the put option premium is \\$2. Both options can be exercised only on their expiration date, which happens to be the same for the call and the put. If the price of bond X is \\$100 on the expiration date, what is your total payoff and then total profit from the options portfolio?\n",
    "\n",
    "<details>\n",
    "  <summary>Click for Solution!</summary>\n",
    "    \n",
    "##### ![](./pic/light.png) Solution\n",
    "\n",
    " - At \\$100, the call option would be exercised and the payoff to the seller would be **–(100-90)=-10**.\n",
    " - At \\$100, the put option will be exercised and the payoff to the buyer would be **105-100=5**\n",
    " - The total payoff from the options portfolio would be **-5**.\n",
    " - The total profit from the options portfolio is **-5+5-2=-2**. (loss)\n",
    "</details>    \n",
    "\n",
    "([*back to text*](#example-3))"
   ]
  },
  {
   "cell_type": "markdown",
   "metadata": {},
   "source": [
    "<section id=\"about\"><h2>About</h2></section>\n",
    "#### ![](./pic/note1515.png) Problem 3\n",
    "Consider an 27 year 12.3 % coupon bond with \\$1,000 par selling for \\$937 (semi-annual coupons). \n",
    " - Suppose that the first par call for this bond is 1 years from now. \n",
    " - Assume that the bond is putable at par in 17 years. \n",
    " - If the call/put dates above are the only ones, what is the bond’s yield to worst? \n",
    "\n",
    "<details>\n",
    "  <summary>Click for Solution!</summary>\n",
    "    \n",
    "##### ![](./pic/light.png) Solution\n",
    " - Annualized YTM = **13.1562%**\n",
    " - Annualized YTFPC = **19.5374%**\n",
    " - Annualized YTFPP = **13.2406%**\n",
    " - Notice that there is no YTFC. So just compare the yields that you have to get YTWorst = **13.1562%**\n",
    "\n",
    "</details>    \n",
    "&nbsp    \n",
    "\n",
    "([*back to text*](#example-3))"
   ]
  },
  {
   "cell_type": "markdown",
   "metadata": {},
   "source": [
    "<section id=\"contact\"><h2>Contact</h2></section>\n",
    "#### ![](./pic/note1515.png) Problem 3\n",
    "Consider an 27 year 12.3 % coupon bond with \\$1,000 par selling for \\$937 (semi-annual coupons). \n",
    " - Suppose that the first par call for this bond is 1 years from now. \n",
    " - Assume that the bond is putable at par in 17 years. \n",
    " - If the call/put dates above are the only ones, what is the bond’s yield to worst? \n",
    "\n",
    "<details>\n",
    "  <summary>Click for Solution!</summary>\n",
    "    \n",
    "##### ![](./pic/light.png) Solution\n",
    " - Annualized YTM = **13.1562%**\n",
    " - Annualized YTFPC = **19.5374%**\n",
    " - Annualized YTFPP = **13.2406%**\n",
    " - Notice that there is no YTFC. So just compare the yields that you have to get YTWorst = **13.1562%**\n",
    "\n",
    "</details>    \n",
    "&nbsp    \n",
    "\n",
    "([*back to text*](#example-3))"
   ]
  },
  {
   "cell_type": "markdown",
   "metadata": {},
   "source": [
    "</div>"
   ]
  }
 ],
 "metadata": {
  "date": 1579028399.5295208,
  "download_nb": false,
  "filename": "control_flow.rst",
  "filename_with_path": "python_fundamentals/control_flow",
  "kernelspec": {
   "display_name": "Python 3",
   "language": "python",
   "name": "python3"
  },
  "language_info": {
   "codemirror_mode": {
    "name": "ipython",
    "version": 3
   },
   "file_extension": ".py",
   "mimetype": "text/x-python",
   "name": "python",
   "nbconvert_exporter": "python",
   "pygments_lexer": "ipython3",
   "version": "3.7.4"
  },
  "title": "Control Flow"
 },
 "nbformat": 4,
 "nbformat_minor": 4
}
