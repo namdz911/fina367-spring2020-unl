{
 "cells": [
  {
   "cell_type": "markdown",
   "metadata": {},
   "source": [
    "# Callable and Putable Bonds\n",
    "\n",
    "**Before you start**\n",
    "- Optional Readings: Chapter 9.2 - 9.4\n",
    "- <a href=\"./pdf/intro_to_option.pdf\" target=\"_blank\">Link to download PowerPoint Slides!</a>\n"
   ]
  },
  {
   "cell_type": "markdown",
   "metadata": {},
   "source": [
    "## Outline\n",
    "\n",
    "<iframe title=\"Callable and Putable Bonds - Outline\" width=\"512\" height=\"288\" allowTransparency=\"true\" mozallowfullscreen webkitallowfullscreen allowfullscreen style=\"background-color:transparent;\" frameBorder=\"0\" src=\"https://app.vidgrid.com/embed/9YbV5VYrCNl8\"></iframe>\n",
    "\n",
    "- [Callable and Putable Bonds](#callable-and-putable-bonds)  \n",
    "  - [Introduction to options](#introduction-to-options)  \n",
    "  - [Introduction to bonds with embedded options](#introduction-to-bonds-with-embedded-options)  \n",
    "  - [Gains and loses from calling a bond](#gains-and-loses-from-calling-a-bond) \n",
    "  - [Pricing callable bonds](#pricing-callable-bonds)  \n",
    "  - [Return on callable bonds](#return-on-callable-bonds)  \n",
    "  - [Duration and Convexity of callable bonds](#duration-and-convexity-of-callable-bonds) \n",
    "  - [Practice Problems](#practice-problems) \n",
    "\n",
    "---"
   ]
  },
  {
   "cell_type": "markdown",
   "metadata": {},
   "source": [
    "## Introduction to options\n",
    "([*back to top*](#callable-and-putable-bonds)!)\n",
    "\n",
    " - For this section, it is crutial to understand how option works? how the decision to exercise is made and what the payoff structure looks like?"
   ]
  },
  {
   "cell_type": "markdown",
   "metadata": {},
   "source": [
    "#### ![](./pic/dollarnew15.png) What is an Option?\n",
    "\n",
    " -  Definition and Basic Features of Options\n",
    "\n",
    "<iframe title=\"What is an Option?\" width=\"512\" height=\"288\" allowTransparency=\"true\" mozallowfullscreen webkitallowfullscreen allowfullscreen style=\"background-color:transparent;\" frameBorder=\"0\" src=\"https://app.vidgrid.com/embed/0I1pi5Y0HGHH\"></iframe>\n",
    "  \n",
    "---"
   ]
  },
  {
   "cell_type": "markdown",
   "metadata": {},
   "source": [
    "#### ![](./pic/dollarnew15.png) Option Payoff/Profit Diagrams\n",
    "\n",
    " - The use of diagrams and some assumptions to generate the the ones that we need.\n",
    "\n",
    "<iframe title=\"Option Payoff/Profit Diagrams P1\" width=\"512\" height=\"288\" allowTransparency=\"true\" mozallowfullscreen webkitallowfullscreen allowfullscreen style=\"background-color:transparent;\" frameBorder=\"0\" src=\"https://app.vidgrid.com/embed/c7H9RoVYggEa\"></iframe>\n",
    "\n",
    "---"
   ]
  },
  {
   "cell_type": "markdown",
   "metadata": {},
   "source": [
    " - How to draw the diagram for 4 option positions: `Buy a Call`, `Sell a Call`, `Buy a Put`, `Sell A Put`\n",
    "   - To navigate within the video to different option positions, click on the `Chapter` button on the video (The second button on the top right corner of the video)\n",
    "  \n",
    "<iframe title=\"Option Payoff/Profit Diagrams P2\" width=\"512\" height=\"288\" allowTransparency=\"true\" mozallowfullscreen webkitallowfullscreen allowfullscreen style=\"background-color:transparent;\" frameBorder=\"0\" src=\"https://app.vidgrid.com/embed/naNuXeunh3b6\"></iframe>\n",
    "  \n",
    "---"
   ]
  },
  {
   "cell_type": "markdown",
   "metadata": {},
   "source": [
    "#### ![](./pic/note1515.png) Option Payoff/Profit Examples \n",
    "\n",
    "<a id='example-1'></a>\n",
    "\n",
    "**Example 1**\n",
    "\n",
    "<iframe title=\"Option Payoff/Profit Example 1\" width=\"512\" height=\"288\" allowTransparency=\"true\" mozallowfullscreen webkitallowfullscreen allowfullscreen style=\"background-color:transparent;\" frameBorder=\"0\" src=\"https://app.vidgrid.com/embed/jm6QFCvQm9O9\"></iframe>\n",
    "\n",
    ">Consider a call option on bond X with an exercise price of \\$112 that expires in 3 months. Today the option’s price is \\$4.\n",
    "> - What is your payoff if you buy the option today and in 3 months bond X is selling for \\$100? What is your profit/loss?\n",
    "\n",
    "\n",
    "<details>\n",
    "  <summary>Click for Solution!</summary>\n",
    "\n",
    "##### ![](./pic/light.png) Solution\n",
    "- Go through this set of questions:\n",
    "    - Who get to decide? **You**\n",
    "    - Will it be exercised? **No! because the price at expiration is less than the strike price (100 < 112).**\n",
    "    - What’s the payoff? **Payoff is 0 because the option is not excercised.**\n",
    "    - Did you pay or receive the premium? **You paid the premium because you are the buyer**\n",
    "    - What is the profit/loss? **0 - 4 = -4**\n",
    "\n",
    "</details> \n",
    "\n",
    " - Now try to solve the following examples !\n",
    "\n",
    "---"
   ]
  },
  {
   "cell_type": "markdown",
   "metadata": {},
   "source": [
    "<a id='example-2'></a>\n",
    "\n",
    "**Example 2**\n",
    "\n",
    " - Try to solve Example 2 now by following the list of questions and pay attention to the position you are taking now!\n",
    "\n",
    ">Consider a call option on bond X with an exercise price of \\$112 that expires in 3 months. Today the option’s price is \\$4.\n",
    "> - What is your payoff if you sell the option and in 3 months bond X is selling for \\$100? What is your profit/loss?\n",
    "\n",
    "\n",
    "<details>\n",
    "  <summary>Click for Solution!</summary>\n",
    "\n",
    "##### ![](./pic/light.png) Solution\n",
    "- Go through this set of questions:\n",
    "    - Who get to decide? **Whoever buys the option.**\n",
    "    - Will it be exercised? **No! because the price at expiration is less than the strike price (100 < 112).**\n",
    "    - What’s the payoff? **Payoff is 0 because the option is not excercised.**\n",
    "    - Did you pay or receive the premium? **You receive the premium because you are the seller**\n",
    "    - What is the profit/loss? **0 + 4 = 4**\n",
    "\n",
    "</details> \n",
    "\n",
    "---"
   ]
  },
  {
   "cell_type": "markdown",
   "metadata": {},
   "source": [
    "<a id='example-3'></a>\n",
    "\n",
    "**Example 3**\n",
    "\n",
    " -  Example 3 is different from the other two examples in that the price of the underlying is now different. How would that affect your decision to exercise the option?\n",
    "\n",
    ">Consider a call option on bond X with an exercise price of \\$112 that expires in 3 months. Today the option’s price is \\$4.\n",
    "> - What is your payoff if you buy the option and in 3 months bond X is selling for \\$120? What is your profit/loss?\n",
    "\n",
    "\n",
    "\n",
    "<details>\n",
    "  <summary>Click for Solution!</summary>\n",
    "\n",
    "##### ![](./pic/light.png) Solution\n",
    "- Go through this set of questions:\n",
    "    - Who get to decide? **You**\n",
    "    - Will it be exercised? **Yes! because the price at expiration is higher than the strike price (120 > 112).**\n",
    "    - What’s the payoff? **Payoff is 120 - 112 = 8 because the option is not excercised.**\n",
    "    - Did you pay or receive the premium? **You paid the premium because you are the buyer**\n",
    "    - What is the profit/loss? **8 - 4 = 4**\n",
    "\n",
    "</details> \n",
    "\n",
    "#### Practice\n",
    "- See [Problem 1](#problem-1) and [Problem 2](#problem-2) for more practice!\n",
    "\n",
    "---"
   ]
  },
  {
   "cell_type": "markdown",
   "metadata": {},
   "source": [
    "## Introduction to bonds with embedded options \n",
    "(To Be Updated)\n",
    "\n",
    "([*back to top*](#callable-and-putable-bonds)!)"
   ]
  },
  {
   "cell_type": "markdown",
   "metadata": {},
   "source": [
    "## Gains and loses from calling a bond\n",
    "(To Be Updated)\n",
    "\n",
    "([*back to top*](#callable-and-putable-bonds)!)"
   ]
  },
  {
   "cell_type": "markdown",
   "metadata": {},
   "source": [
    "## Pricing callable bonds\n",
    "(To Be Updated)\n",
    "\n",
    "([*back to top*](#callable-and-putable-bonds)!) "
   ]
  },
  {
   "cell_type": "markdown",
   "metadata": {},
   "source": [
    "## Return on callable bonds\n",
    "(To Be Updated)\n",
    "\n",
    "([*back to top*](#callable-and-putable-bonds)!)"
   ]
  },
  {
   "cell_type": "markdown",
   "metadata": {},
   "source": [
    "## Duration and Convexity of callable bonds\n",
    "(To Be Updated)\n",
    "\n",
    "([*back to top*](#callable-and-putable-bonds)!)"
   ]
  },
  {
   "cell_type": "markdown",
   "metadata": {},
   "source": [
    "## Practice Problems\n",
    "\n",
    "([*back to top*](#callable-and-putable-bonds)!)"
   ]
  },
  {
   "cell_type": "markdown",
   "metadata": {},
   "source": [
    "<a id='problem-1'></a>\n",
    "#### ![](./pic/note1515.png) Problem 1\n",
    "You buy a call option and buy a put option on bond X. The strike price of the call option is \\$90 and the strike price of the put option is \\$90. The call option premium is \\$5 and the put option premium is \\$2. Both options can be exercised only on their expiration date, which happens to be the same for the call and the put. If the price of bond X is \\$100 on the expiration date, what is your total payoff and then total profit from the options portfolio?\n",
    "\n",
    "<details>\n",
    "  <summary>Click for Solution!</summary>\n",
    "    \n",
    "#### Solution\n",
    "\n",
    " - At \\$100, the call option would be exercised and the payoff to the buyer would be **100-90=10**.\n",
    " - At \\$100, the put option will not be exercised and the payoff to the buyer would be **0**.\n",
    " - The total payoff from the options portfolio would be **10**.\n",
    " - The total profit from the options portfolio is **10-5-2=3**.\n",
    "\n",
    "</details>    \n",
    "\n",
    "([*back to text*](#example-3))"
   ]
  },
  {
   "cell_type": "markdown",
   "metadata": {},
   "source": [
    "<a id='problem-2'></a>\n",
    "#### ![](./pic/note1515.png) Problem 2\n",
    "You sell a call option and buy a put option on bond X. The strike price of the call option is \\$90 and the strike price of the put option is \\$105. The call option premium is \\$5 and the put option premium is \\$2. Both options can be exercised only on their expiration date, which happens to be the same for the call and the put. If the price of bond X is \\$100 on the expiration date, what is your total payoff and then total profit from the options portfolio?\n",
    "\n",
    "<details>\n",
    "  <summary>Click for Solution!</summary>\n",
    "    \n",
    "##### ![](./pic/light.png) Solution\n",
    "\n",
    " - At \\$100, the call option would be exercised and the payoff to the seller would be **–(100-90)=-10**.\n",
    " - At \\$100, the put option will be exercised and the payoff to the buyer would be **105-100=5**\n",
    " - The total payoff from the options portfolio would be **-5**.\n",
    " - The total profit from the options portfolio is **-5+5-2=-2**. (loss)\n",
    "</details>    \n",
    "\n",
    "([*back to text*](#example-3))"
   ]
  }
 ],
 "metadata": {
  "date": 1579028399.5295208,
  "download_nb": false,
  "filename": "control_flow.rst",
  "filename_with_path": "python_fundamentals/control_flow",
  "kernelspec": {
   "display_name": "Python 3",
   "language": "python",
   "name": "python3"
  },
  "language_info": {
   "codemirror_mode": {
    "name": "ipython",
    "version": 3
   },
   "file_extension": ".py",
   "mimetype": "text/x-python",
   "name": "python",
   "nbconvert_exporter": "python",
   "pygments_lexer": "ipython3",
   "version": "3.7.4"
  },
  "title": "Control Flow"
 },
 "nbformat": 4,
 "nbformat_minor": 4
}
