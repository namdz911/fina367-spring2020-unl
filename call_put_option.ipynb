{
 "cells": [
  {
   "cell_type": "markdown",
   "metadata": {},
   "source": [
    "# Callable and Putable Bonds\n",
    "\n",
    "**Useful readings**\n",
    "\n",
    "- Booleans section in [Basics](basics.ipynb)  \n",
    "- [Collections](collections.ipynb)  \n",
    "\n",
    "**Learning outcomes**\n",
    "\n",
    "  - Understand basic principles underlying different models of credit risk \n",
    "  - Understand credit rating pricing model "
   ]
  },
  {
   "cell_type": "markdown",
   "metadata": {},
   "source": [
    "## Outline \n",
    "\n",
    "[![alt text](./pic/test2.png)](https://use.vg/i2TvPm)\n",
    "\n",
    "- [Callable and Putable Bonds](#callable-and-putable-bonds)  \n",
    "  - [Introduction to options](#introduction-to-options)  \n",
    "  - [Introduction to bonds with embedded options](#introduction-to-bonds-with-embedded-options)  \n",
    "  - [Gains and loses from calling a bond](#gains-and-loses-from-calling-a-bond) \n",
    "  - [Pricing callable bonds](#pricing-callable-bonds)  \n",
    "  - [Return on callable bonds](#return-on-callable-bonds)  \n",
    "  - [Duration and Convexity of callable bonds](#duration-and-convexity-of-callable-bonds) "
   ]
  },
  {
   "cell_type": "markdown",
   "metadata": {},
   "source": [
    "## Introduction to options\n",
    "\n",
    "### ![](./pic/note2525.png)  Learning outcomes\n",
    "\n",
    "  - Understand basic principles underlying different models of credit risk \n",
    "  - Understand credit rating pricing model \n",
    "  \n",
    "\n",
    "  \n"
   ]
  },
  {
   "cell_type": "markdown",
   "metadata": {},
   "source": [
    "<a id='example-1'></a>\n",
    "\n",
    "### Option Payoff/Profit example\n",
    "\n",
    "[![alt text](./pic/test2.png)](https://use.vg/i2TvPm)\n",
    "\n",
    "> Consider a call option on bond X with an exercise price of \\$112 that expires in 3 months. Today the option price is \\$4.\n",
    "> 1. What is your payoff if you buy the option today and in 3 months bond X is selling for \\$100? What is your profit/loss?\n",
    "> 2. What is your payoff if you sell the option and in 3 months bond X is selling for \\$100? What is your profit/loss?\n",
    "> 3. What is your payoff if you buy the option and in 3 months bond X is selling for \\$120? What is your profit/loss?\n",
    "\n",
    "\n",
    "\n",
    "<details>\n",
    "  <summary>Click for Solution!</summary>\n",
    "\n",
    "#### ![](./pic/light.png) Solution\n",
    "- The option will not be exercise because the strike price \\$112 is higher than market price \\$100. You lose the \\$4 you paid for the option.\n",
    "- In this case, you gain 4 for selling the option.\n",
    "- The option will be exercise because the strike price \\$112 is lower than market price \\$120. You lose the \\$4 you paid for the option but gain \\$8 (120-112) for exercising the option. \n",
    "</details>  \n",
    "\n",
    "#### Practice\n",
    "- See [Problem 1](#problem-1) for more practice!\n"
   ]
  },
  {
   "cell_type": "markdown",
   "metadata": {},
   "source": [
    "### Example 1A\n",
    "\n",
    "[![alt text](./pic/test2.png)](https://use.vg/i2TvPm)\n",
    "\n",
    ">Consider a 1-year zero-coupon bond that has a BBB rating. Assume that this bond is senior secured (historical recovery rate = 65.3%). The yield on a 1-year zero-coupon Treasury bond >is 6%. What should be the yield on this BBB-rated bond? (Assume periodicity of 1)\n",
    "\n",
    "<details>\n",
    "  <summary>Click for Solution!</summary>\n",
    "\n",
    "#### ![](./pic/light.png) Solution\n",
    "\n",
    "- Risk adjusted payoff is equal to risk free pay off:\n",
    "\n",
    "**<center> (1+r<sub>BBB</sub>)p + (1+r<sub>BBB</sub>)(1 - p)RR = 1+r<sub>f</sub> </center>**\n",
    "\n",
    "- Plug in the numbers and solve for **r<sub>BBB</sub>**\n",
    "- The yield on this BBB-rated bond is **6.0847**\n",
    "</details> \n",
    "\n",
    "#### Practice\n",
    "- See [Problem 2](#problem-2) for more practice!"
   ]
  },
  {
   "cell_type": "markdown",
   "metadata": {},
   "source": [
    "## Introduction to bonds with embedded options\n",
    "\n",
    "**Learning outcomes**\n",
    "\n",
    "  - Understand basic principles underlying different models of credit risk \n",
    "  - Understand credit rating pricing model \n",
    "  "
   ]
  },
  {
   "cell_type": "markdown",
   "metadata": {},
   "source": [
    "## Gains and loses from calling a bond\n",
    "\n",
    "**Learning outcomes**\n",
    "\n",
    "  - Understand basic principles underlying different models of credit risk \n",
    "  - Understand credit rating pricing model "
   ]
  },
  {
   "cell_type": "markdown",
   "metadata": {},
   "source": [
    "## Pricing callable bonds\n",
    "\n",
    "**Learning outcomes**\n",
    "\n",
    "  - Understand basic principles underlying different models of credit risk \n",
    "  - Understand credit rating pricing model "
   ]
  },
  {
   "cell_type": "markdown",
   "metadata": {},
   "source": [
    "## Return on callable bonds\n",
    "\n",
    "**Learning outcomes**\n",
    "\n",
    "  - Understand basic principles underlying different models of credit risk \n",
    "  - Understand credit rating pricing model "
   ]
  },
  {
   "cell_type": "markdown",
   "metadata": {},
   "source": [
    "## Duration and Convexity of callable bonds\n",
    "\n",
    "**Learning outcomes**\n",
    "\n",
    "  - Understand basic principles underlying different models of credit risk \n",
    "  - Understand credit rating pricing model "
   ]
  },
  {
   "cell_type": "markdown",
   "metadata": {},
   "source": [
    "## Practice Problems\n",
    "---\n",
    "\n",
    "\n",
    "<a id='problem-1'></a>\n",
    "**Example 1**\n",
    "\n",
    "> Consider a call option on bond X with an exercise price of \\\\$112 that expires in 3 months. Today the option price is \\$4.\n",
    "> 1. What is your payoff if you buy the option today and in 3 months bond X is selling for \\$100? What is your profit/loss?\n",
    "> 2. What is your payoff if you sell the option and in 3 months bond X is selling for \\$100? What is your profit/loss?\n",
    "> 3. What is your payoff if you buy the option and in 3 months bond X is selling for \\$120? What is your profit/loss?\n",
    "\n",
    "\n",
    "\n",
    "<details>\n",
    "  <summary>Click for Solution!</summary>\n",
    "\n",
    "#### ![](./pic/light.png) Solution\n",
    "1. The option will not be exercise because the strike price \\$112 is higher than market price \\$100. You lose the \\$4 you paid for the option.\n",
    "2. In this case, you gain 4 for selling the option.\n",
    "3. The option will be exercise because the strike price \\$112 is lower than market price \\$120. You lose the \\$4 you paid for the option but gain \\$8 (120-112) for exercising the option. \n",
    "</details>  \n",
    "\n",
    "([*back to text*](#example-1))"
   ]
  }
 ],
 "metadata": {
  "date": 1579028399.5295208,
  "download_nb": false,
  "filename": "control_flow.rst",
  "filename_with_path": "python_fundamentals/control_flow",
  "kernelspec": {
   "display_name": "Python 3",
   "language": "python",
   "name": "python3"
  },
  "language_info": {
   "codemirror_mode": {
    "name": "ipython",
    "version": 3
   },
   "file_extension": ".py",
   "mimetype": "text/x-python",
   "name": "python",
   "nbconvert_exporter": "python",
   "pygments_lexer": "ipython3",
   "version": "3.7.4"
  },
  "title": "Control Flow"
 },
 "nbformat": 4,
 "nbformat_minor": 4
}
