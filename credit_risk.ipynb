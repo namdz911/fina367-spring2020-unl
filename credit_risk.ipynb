{
 "cells": [
  {
   "cell_type": "markdown",
   "metadata": {},
   "source": [
    "# Credit Risk\n",
    "\n",
    "---\n",
    "\n",
    "**Useful Readings**\n",
    "\n",
    "- Booleans section in [Basics](basics.ipynb)  \n",
    "- [Collections](collections.ipynb) "
   ]
  },
  {
   "cell_type": "markdown",
   "metadata": {},
   "source": [
    "## Outline\n",
    "\n",
    "[![alt text](./pic/test2.png)](https://use.vg/i2TvPm)\n",
    "\n",
    "- [Credit Risk](#credit-cisk)  \n",
    "  - [Credit Ratings](#credit-ratings)  \n",
    "  - [Credit Risk Models](#credit-risk-models)  \n",
    "  - [Bond Factor Models](#bond-factor-models) "
   ]
  },
  {
   "cell_type": "markdown",
   "metadata": {},
   "source": [
    "## Credit Rating\n",
    "\n",
    "If an asset pays a stream of payoffs over multiple time periods, then we\n",
    "can use a discount rate to calculate the value to the consumer of a entire\n",
    "sequence of payoffs."
   ]
  },
  {
   "cell_type": "markdown",
   "metadata": {},
   "source": [
    "### Example 1A\n",
    "\n",
    "[![alt text](./pic/test2.png)](https://use.vg/i2TvPm)\n",
    "\n",
    ">Consider a 1-year zero-coupon bond that has a BBB rating. Assume that this bond is senior secured (historical recovery rate = 65.3%). The yield on a 1-year zero-coupon Treasury bond >is 6%. What should be the yield on this BBB-rated bond? (Assume periodicity of 1)\n",
    "\n",
    "<details>\n",
    "  <summary>Click for Solution!</summary>\n",
    "\n",
    "#### Solution\n",
    "\n",
    "- Risk adjusted payoff is equal to risk free pay off:\n",
    "\n",
    "**<center> (1+r<sub>BBB</sub>)p + (1+r<sub>BBB</sub>)(1 - p)RR = 1+r<sub>f</sub> </center>**\n",
    "\n",
    "- Plug in the numbers and solve for **r<sub>BBB</sub>**\n",
    "- The yield on this BBB-rated bond is **6.0847**\n",
    "</details> \n",
    "\n",
    "#### Practice\n",
    "- See [Problem 1](#problem-1)!"
   ]
  },
  {
   "cell_type": "markdown",
   "metadata": {},
   "source": [
    "### Example 1B\n",
    "\n",
    "[![alt text](./pic/test2.png)](https://use.vg/i2TvPm)\n",
    "\n",
    ">Consider the 1-year zero-coupon bond with a BBB rating, whose yield we calculated in Example 1A. What is the yield spread on this bond? Assume that the following are yields on Treasury STRIPS of different maturity:\n",
    ">\n",
    ">Maturity     | YTM\n",
    ">------------ | -------------\n",
    ">1            | 6%            \n",
    ">2            | 6.2%         \n",
    ">3            | 6.6%           \n",
    "\n",
    "\n",
    "<details>\n",
    "  <summary>Click for Solution!</summary>\n",
    "\n",
    "#### Solution\n",
    "1. The option will not be exercise because the strike price \\$112 is higher than market price \\$100. You lose the \\$4 you paid for the option.\n",
    "2. In this case, you gain 4 for selling the option.\n",
    "3. The option will be exercise because the strike price \\$112 is lower than market price \\$120. You lose the \\$4 you paid for the option but gain \\$8 (120-112) for exercising the option. \n",
    "</details>  \n",
    "\n",
    "#### Practice\n",
    ">See [Problem 1](#problem-1)"
   ]
  },
  {
   "cell_type": "markdown",
   "metadata": {},
   "source": [
    "## Credit Risk Models"
   ]
  },
  {
   "cell_type": "markdown",
   "metadata": {},
   "source": [
    "<a id='exerciselist-1'></a>\n",
    "\n",
    "**EXAMPLE 1A**\n",
    "\n",
    "> Consider a 1-year zero-coupon bond that has a BBB rating. Assume that this bond is senior secured (historical recovery rate = 63.5%). The yield on a 1-year zero-coupon Treasury bond is 6%. What should be the yield on this BBB-rated bond? (Assume periodicity of 1)\n",
    "\n",
    "[Walk-through](http://www.youtube.com/watch?v=YOUTUBE_VIDEO_ID_HERE)\n",
    "\n",
    "- **Step 1**: Calculate the payoff \n",
    "- **Step 2**: Calculate the payoff \n",
    "- **Step 3**: Calculate the payoff\n",
    "\n",
    ">See practice problem 1A-1 in the [*Problem List*](#problemlist-1)"
   ]
  },
  {
   "cell_type": "markdown",
   "metadata": {},
   "source": [
    "## Practice Problems\n",
    "\n",
    "### Problem 1\n",
    "Consider a 1-year zero-coupon bond that has a CCC rating. Assume that this bond is senior secured (historical recovery rate = 42.7%). The yield on a 1-year zero-coupon Treasury bond is 2%. What should be the yield on this CCC-rated bond? (Assume periodicity of 1)\n",
    "\n",
    "<details>\n",
    "  <summary>Click for Solution!</summary>\n",
    "    \n",
    "#### Solution\n",
    "\n",
    "- The yield on this BBB-rated bond is **15.02022**\n",
    "\n",
    "</details>    \n",
    "\n",
    "([*back to text*](#example-1a))"
   ]
  }
 ],
 "metadata": {
  "date": 1579028399.5295208,
  "download_nb": false,
  "filename": "control_flow.rst",
  "filename_with_path": "python_fundamentals/control_flow",
  "kernelspec": {
   "display_name": "Python 3",
   "language": "python",
   "name": "python3"
  },
  "language_info": {
   "codemirror_mode": {
    "name": "ipython",
    "version": 3
   },
   "file_extension": ".py",
   "mimetype": "text/x-python",
   "name": "python",
   "nbconvert_exporter": "python",
   "pygments_lexer": "ipython3",
   "version": "3.7.4"
  },
  "title": "Control Flow"
 },
 "nbformat": 4,
 "nbformat_minor": 4
}
