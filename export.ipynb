{
 "cells": [
  {
   "cell_type": "code",
   "execution_count": 2,
   "metadata": {},
   "outputs": [],
   "source": [
    "import os"
   ]
  },
  {
   "cell_type": "code",
   "execution_count": 13,
   "metadata": {},
   "outputs": [
    {
     "data": {
      "text/plain": [
       "0"
      ]
     },
     "execution_count": 13,
     "metadata": {},
     "output_type": "execute_result"
    }
   ],
   "source": [
    "os.system('jupyter nbconvert --to html credit_risk.ipynb')\n",
    "os.system('jupyter nbconvert --to html syllabus.ipynb')\n",
    "os.system('jupyter nbconvert --to html index.ipynb')\n",
    "os.system('jupyter nbconvert --to html financial_calculator.ipynb')\n",
    "os.system('jupyter nbconvert --to html embedded_option.ipynb')"
   ]
  },
  {
   "cell_type": "code",
   "execution_count": 3,
   "metadata": {},
   "outputs": [
    {
     "data": {
      "text/plain": [
       "0"
      ]
     },
     "execution_count": 3,
     "metadata": {},
     "output_type": "execute_result"
    }
   ],
   "source": [
    "os.system('jupyter nbconvert --to markdown credit_risk.ipynb')\n",
    "os.system('jupyter nbconvert --to markdown syllabus.ipynb')\n",
    "os.system('jupyter nbconvert --to markdown readme.ipynb')\n",
    "os.system('jupyter nbconvert --to markdown financial_calculator.ipynb')\n",
    "os.system('jupyter nbconvert --to markdown call_put_option.ipynb')"
   ]
  },
  {
   "cell_type": "code",
   "execution_count": 7,
   "metadata": {},
   "outputs": [
    {
     "data": {
      "text/plain": [
       "'<p><em>boo!</em></p>\\n'"
      ]
     },
     "execution_count": 7,
     "metadata": {},
     "output_type": "execute_result"
    }
   ],
   "source": [
    "import markdown2\n",
    "markdown2.markdown(\"*boo!*\")\n",
    "\n",
    "from markdown2 import Markdown\n",
    "markdowner = Markdown()\n",
    "markdowner.convert(\"*boo!*\")"
   ]
  },
  {
   "cell_type": "code",
   "execution_count": 16,
   "metadata": {},
   "outputs": [
    {
     "data": {
      "text/plain": [
       "0"
      ]
     },
     "execution_count": 16,
     "metadata": {},
     "output_type": "execute_result"
    }
   ],
   "source": [
    "os.system('jupyter nbconvert --to markdown credit_risk.ipynb')\n",
    "os.system('jupyter nbconvert --to markdown readme.ipynb')\n",
    "os.system('jupyter nbconvert --to markdown syllabus.ipynb')\n",
    "os.system('jupyter nbconvert --to markdown call_put_option.ipynb')"
   ]
  },
  {
   "cell_type": "code",
   "execution_count": 17,
   "metadata": {},
   "outputs": [
    {
     "data": {
      "text/plain": [
       "0"
      ]
     },
     "execution_count": 17,
     "metadata": {},
     "output_type": "execute_result"
    }
   ],
   "source": [
    "os.system('jupyter nbconvert --to markdown readme.ipynb')\n",
    "os.system('jupyter nbconvert --to markdown call_put_option.ipynb')\n",
    "os.system('jupyter nbconvert --to markdown convertible_bonds.ipynb')\n",
    "os.system('jupyter nbconvert --to markdown credit_risk.ipynb')\n",
    "os.system('jupyter nbconvert --to markdown test.ipynb')"
   ]
  },
  {
   "cell_type": "code",
   "execution_count": 12,
   "metadata": {},
   "outputs": [
    {
     "data": {
      "text/plain": [
       "0"
      ]
     },
     "execution_count": 12,
     "metadata": {},
     "output_type": "execute_result"
    }
   ],
   "source": [
    "os.system('jupyter nbconvert --to markdown test.ipynb')"
   ]
  }
 ],
 "metadata": {
  "kernelspec": {
   "display_name": "Python 3",
   "language": "python",
   "name": "python3"
  },
  "language_info": {
   "codemirror_mode": {
    "name": "ipython",
    "version": 3
   },
   "file_extension": ".py",
   "mimetype": "text/x-python",
   "name": "python",
   "nbconvert_exporter": "python",
   "pygments_lexer": "ipython3",
   "version": "3.7.4"
  }
 },
 "nbformat": 4,
 "nbformat_minor": 4
}
