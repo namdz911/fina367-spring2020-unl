{
 "cells": [
  {
   "cell_type": "markdown",
   "metadata": {},
   "source": [
    "# Financial Calculator\n",
    "* *This page compiles materials on how to use financial calculator*\n",
    "\n",
    "---"
   ]
  },
  {
   "cell_type": "markdown",
   "metadata": {},
   "source": [
    "**Taking Quantities to a Power** - [Link to Video](https://youtu.be/B2CGdNjcjYY)\n",
    "- This video describes how to take a quantity to a power using the BAII calculator. Used for FV and PV formulas.\n",
    "\n",
    "\n",
    "**Short Cut for PV** - [Link to Video](https://youtu.be/69q5ocQghnI)\n",
    "- This video shows keystroke shortcuts so that there is no rounding or need to store (write down) intermediate steps.\n",
    "\n",
    "\n",
    "**PVA Calculator Key Strokes** - [Link to Video](https://youtu.be/ZA6p45s4MpI)\n",
    "- This video show keystroke shortcuts so that there is no rounding or need to store (write down) intermediate steps when applying the present value of an annuity formula (PVA)his video describes how to take a quantity to a power using the BAII calculator. Used for FV and PV formulas.\n",
    "\n",
    "\n",
    "**Financial Calculator Functions 1** - [Link to Video](https://youtu.be/lKtdoAlAGX0)\n",
    "- This video shows how to use the 5 basic functions N,I/Y, PV, PMT and FV on the TI BAII calculator.\n",
    "\n",
    "\n",
    "**Financial Calculator Functions 2** - [Link to Video](https://youtu.be/delDNSu1ux8)\n",
    "- This video walks the students through some TVM examples using the financial calculator functions."
   ]
  }
 ],
 "metadata": {
  "kernelspec": {
   "display_name": "Python 3",
   "language": "python",
   "name": "python3"
  },
  "language_info": {
   "codemirror_mode": {
    "name": "ipython",
    "version": 3
   },
   "file_extension": ".py",
   "mimetype": "text/x-python",
   "name": "python",
   "nbconvert_exporter": "python",
   "pygments_lexer": "ipython3",
   "version": "3.7.4"
  }
 },
 "nbformat": 4,
 "nbformat_minor": 4
}
