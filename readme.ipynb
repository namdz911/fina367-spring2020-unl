{
 "cells": [
  {
   "cell_type": "markdown",
   "metadata": {},
   "source": [
    "<div class=\"sidebar\">\n",
    "  <a href=\"readme.html\" class=\"active\"><i class=\"fa fa-fw fa-home\"></i> Home</a>\n",
    "  <a> </a>   \n",
    "  <a href=\"credit_risk.html\" class=\"module\"><strong>Credit Risk</strong>  \n",
    "  <a href=\"credit_risk.html#credit-ratings\">Credit Ratings</a>    \n",
    "  <a href=\"credit_risk.html#credit-risk-models\">Credit Risk Models</a>\n",
    "  <a href=\"credit_risk.html#bond-factor-models\">Bond Factor Models</a>\n",
    "  <a href=\"credit_risk.html#practice-problems\">Practice Problems</a> \n",
    "  <a> </a>       \n",
    "  <a href=\"call_put_option.html\" class=\"module\"><strong>Callable and Putable Bonds</strong>\n",
    "  <a href=\"call_put_option.html#introduction-to-options\">Introduction to Options</a>    \n",
    "  <a href=\"call_put_option.html#introduction-to-bonds-with-embedded-options\">Introduction to Bonds with Embedded Options</a> \n",
    "  <a href=\"call_put_option.html#gains-and-loses-from-calling-a-bond\">Gains and Loses from Calling a Bond</a> \n",
    "  <a href=\"call_put_option.html#pricing-callable-bonds\">Pricing Callable Bonds</a> \n",
    "  <a href=\"call_put_option.html#return-on-callable-bonds\">Return on Callable Bonds</a> \n",
    "  <a href=\"call_put_option.html#practice-problems\">Practice Problems</a>\n",
    "  <a> </a>     \n",
    "  <a href=\"convertible_bonds.html\" class=\"module\"><strong>Convertible Bonds</strong>\n",
    "  <a href=\"convertible_bonds.html#introduction-to-convertible-bonds\">Introduction to Convertible Bonds</a> \n",
    "  <a href=\"convertible_bonds.html#traditional-analysis-of-convertibles\">Traditional Analysis of Convertibles</a> \n",
    "  <a href=\"convertible_bonds.html#pricing-convertible-bonds\">Pricing Convertible Bonds</a> \n",
    "  <a href=\"convertible_bonds.html#practice-problems\">Practice Problems</a> \n",
    "  <a> </a>  \n",
    "<link rel=\"stylesheet\" type=\"text/css\" href=\"./sidebar.css\">\n",
    "<link rel=\"stylesheet\" href=\"https://cdnjs.cloudflare.com/ajax/libs/font-awesome/4.7.0/css/font-awesome.min.css\">      \n",
    "</div>\n",
    "\n",
    "<div class=\"main\">\n"
   ]
  },
  {
   "cell_type": "markdown",
   "metadata": {},
   "source": [
    "# [FINA367 - Fix-Income Investment - Spring 2020](readme.html)\n",
    "*Instructor: Nam Le*"
   ]
  },
  {
   "cell_type": "markdown",
   "metadata": {},
   "source": [
    "## On-the-run\n",
    "- **PLEASE READ THIS <a href=\"https://namdz911.github.io/fina367-spring2020-unl/syllabus.html\" target=\"_blank\">PAGE</a> FOR INSTRUCTIONS!**\n",
    "\n",
    "- Some Notes:\n",
    "    - You can adjust the speed of the video to your liking (the **`Setting`** button on the lower right corner of the videos).\n",
    "    - Some videos will contain nagivation within themselves. \n",
    "    - Before watching in-class example's walkthroughs, I suggest you read and try to at least think about the problem. \n",
    "\n",
    "\n",
    "- Next Office Hour: **`Thursday 04/16 at 3:30-4:30 pm US. Central Time`**. Click **[HERE](https://unl.zoom.us/j/499542538)** to join the meeting on Zoom!\n",
    "\n",
    "- **`04/06-04/12`: [Callable and Putable Bonds](call_put_option.html) (<a href=\"./pdf/callable_putable_bonds.pdf\" target=\"_blank\">PPT Slides!</a>)**\n",
    "    - [Intro to Bonds with Embedded Options](call_put_option.html#introduction-to-bonds-with-embedded-options)\n",
    "    - [Gains and Loses from Calling a Bond](call_put_option.html#gains-and-loses-from-calling-a-bond) \n",
    "    - [Pricing Callable Bonds](call_put_option.html#pricing-callable-bonds) \n",
    "    - [Return on Callable Bonds](call_put_option.html#return-on-callable-bonds)  \n",
    "    - Duration and Convexity of Callable Bonds (*Non-essential*)  \n",
    "    \n",
    "    \n",
    "- **`04/13-04/20`: [Convertible Bonds](convertible_bonds.html) (<a href=\"./pdf/convertible_bonds.pdf\" target=\"_blank\">PPT Slides!</a>)**\n",
    "    - [Introduction to Convertible Bonds](convertible_bonds.html#introduction-to-convertible-bonds)  \n",
    "    - [Traditional Analysis of Convertibles](convertible_bonds.html#traditional-analysis-of-convertibles)  \n",
    "    - [Pricing Convertible Bonds](convertible_bonds.html#pricing-convertible-bonds) \n",
    "\n",
    "<iframe width=\"700\" height=\"400\" src=\"https://docs.google.com/spreadsheets/d/e/2PACX-1vTACG5BU7JROotI3occp2Ccon9G-6xMuxVMf46dtLno8zzIiAGE5Ab38YcGl2XsivYorNnvFzt_WpFl/pubhtml?widget=true&amp;headers=false\"></iframe>"
   ]
  },
  {
   "cell_type": "markdown",
   "metadata": {},
   "source": [
    "## Generic\n",
    "- [Course Overview](syllabus.html)"
   ]
  },
  {
   "cell_type": "markdown",
   "metadata": {},
   "source": [
    "## Core Materials\n",
    "- **Modules 5**: Risks associated with bonds\n",
    "    - [Credit Risks](credit_risk.html)\n",
    "\n",
    "\n",
    "- **Modules 6**: Bonds with embedded option\n",
    "    - [Callable and Putable Bonds](call_put_option.html)\n",
    "    - [Convertible Bonds](convertible_bonds.html)\n",
    "\n",
    "\n",
    "\n",
    "- **Modules 7**: Residential mortgages & MBS"
   ]
  },
  {
   "cell_type": "markdown",
   "metadata": {},
   "source": [
    "## Supplementary Materials\n",
    "- Get comfortable with the [Financial Calculator](financial_calculator.html)  "
   ]
  },
  {
   "cell_type": "markdown",
   "metadata": {},
   "source": [
    "**Notice:** *This course is developed based on the FINA367 taught by Professor Stanislava Nikolova. Distribution of the materials is strictly prohibited without my consent.*\n",
    "\n"
   ]
  },
  {
   "cell_type": "markdown",
   "metadata": {},
   "source": [
    "</div>"
   ]
  },
  {
   "cell_type": "markdown",
   "metadata": {},
   "source": [
    "\n",
    "<a id='npv'></a>"
   ]
  }
 ],
 "metadata": {
  "date": 1579028399.5295208,
  "download_nb": false,
  "filename": "control_flow.rst",
  "filename_with_path": "python_fundamentals/control_flow",
  "kernelspec": {
   "display_name": "Python 3",
   "language": "python",
   "name": "python3"
  },
  "language_info": {
   "codemirror_mode": {
    "name": "ipython",
    "version": 3
   },
   "file_extension": ".py",
   "mimetype": "text/x-python",
   "name": "python",
   "nbconvert_exporter": "python",
   "pygments_lexer": "ipython3",
   "version": "3.7.4"
  },
  "title": "Control Flow"
 },
 "nbformat": 4,
 "nbformat_minor": 4
}
