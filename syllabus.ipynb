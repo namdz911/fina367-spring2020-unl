{
 "cells": [
  {
   "cell_type": "markdown",
   "metadata": {},
   "source": [
    "# Syllabus\n",
    "\n",
    "---"
   ]
  },
  {
   "cell_type": "markdown",
   "metadata": {},
   "source": [
    "## Contact information\n",
    "* Instructor: Nam Le\n",
    "* My office: COB 423D\n",
    "* My email: nam.le@huskers.unl.edu\n",
    "\n",
    "\n",
    "## Introduction\n",
    "\n",
    "This bootcamp intents to equip the PhD student with essential coding skills that are specifically used for Empirical Finance research.\n",
    "I will not elaborate in every nuances of each programing language. Instead, I'll provide you with direct application of these programs on finance data bases. This course will be based primarily on R and Stata. For those of you who are total strangers to one of these programs, don't be worried! I will start from the basics.  \n",
    "\n",
    "## Materials \n",
    "\n",
    "Materials used in this course will be available on this [website](https://namdz911.github.io/PhD-coding-bootcamp/F19) during and after this class so that you review them as needed. Please \n",
    "do not distribute these contents without my concent."
   ]
  }
 ],
 "metadata": {
  "kernelspec": {
   "display_name": "Python 3",
   "language": "python",
   "name": "python3"
  },
  "language_info": {
   "codemirror_mode": {
    "name": "ipython",
    "version": 3
   },
   "file_extension": ".py",
   "mimetype": "text/x-python",
   "name": "python",
   "nbconvert_exporter": "python",
   "pygments_lexer": "ipython3",
   "version": "3.7.4"
  }
 },
 "nbformat": 4,
 "nbformat_minor": 4
}
