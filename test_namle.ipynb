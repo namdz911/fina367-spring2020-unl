{
 "cells": [
  {
   "cell_type": "markdown",
   "metadata": {},
   "source": [
    "# This is a Test File\n",
    "nam Le"
   ]
  },
  {
   "cell_type": "markdown",
   "metadata": {},
   "source": [
    " - This is the calendar\n",
    " \n",
    "<figure class=\"video_container\">\n",
    "<iframe width=\"900\" height=\"600\" src=\"https://docs.google.com/spreadsheets/d/e/2PACX-1vQ0x93LZFE7tEbTHVvvVe4OkZ89NJpfhOkqwDZZqwmaJE27I_PoVceisyd_9-sTUA4A6AJVSar4NgvS/pubhtml?widget=true&amp;headers=false\"></iframe>\n",
    "</figure>"
   ]
  }
 ],
 "metadata": {
  "kernelspec": {
   "display_name": "Python 3",
   "language": "python",
   "name": "python3"
  },
  "language_info": {
   "codemirror_mode": {
    "name": "ipython",
    "version": 3
   },
   "file_extension": ".py",
   "mimetype": "text/x-python",
   "name": "python",
   "nbconvert_exporter": "python",
   "pygments_lexer": "ipython3",
   "version": "3.7.4"
  }
 },
 "nbformat": 4,
 "nbformat_minor": 4
}
